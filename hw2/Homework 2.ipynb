{
 "cells": [
  {
   "cell_type": "code",
   "execution_count": 1,
   "metadata": {},
   "outputs": [
    {
     "data": {
      "text/plain": [
       "'3.8.12 (default, Oct 12 2021, 06:23:56) \\n[Clang 10.0.0 ]'"
      ]
     },
     "execution_count": 1,
     "metadata": {},
     "output_type": "execute_result"
    }
   ],
   "source": [
    "import sys\n",
    "sys.version"
   ]
  },
  {
   "cell_type": "code",
   "execution_count": 2,
   "metadata": {},
   "outputs": [],
   "source": [
    "import gym\n",
    "\n",
    "import matplotlib as mpl\n",
    "import matplotlib.pyplot as plt\n",
    "import seaborn as sns\n",
    "import json\n",
    "import math\n",
    "import random\n",
    "import numpy as np\n",
    "import scipy as sp\n",
    "import scipy.stats as st\n",
    "import scipy.integrate as integrate\n",
    "from scipy.stats import multivariate_normal\n",
    "from sklearn import linear_model\n",
    "from sklearn.exceptions import ConvergenceWarning\n",
    "#import statsmodels.api as sm\n",
    "from matplotlib.colors import LogNorm\n",
    "import pickle\n",
    "\n",
    "from joblib import Parallel, delayed\n",
    "from tqdm import tqdm\n",
    "import multiprocessing\n",
    "from collections import namedtuple\n",
    "from itertools import count"
   ]
  },
  {
   "cell_type": "markdown",
   "metadata": {},
   "source": [
    "## Реализуем крестики-нолики"
   ]
  },
  {
   "cell_type": "code",
   "execution_count": 3,
   "metadata": {},
   "outputs": [],
   "source": [
    "N_ROWS, N_COLS, N_WIN = 3, 3, 3"
   ]
  },
  {
   "cell_type": "code",
   "execution_count": 4,
   "metadata": {},
   "outputs": [],
   "source": [
    "class TicTacToe(gym.Env):\n",
    "    def __init__(self, n_rows=N_ROWS, n_cols=N_COLS, n_win=N_WIN):\n",
    "        self.n_rows = n_rows\n",
    "        self.n_cols = n_cols\n",
    "        self.n_win = n_win\n",
    "\n",
    "        self.board = np.zeros((self.n_rows, self.n_cols), dtype=int)\n",
    "        self.gameOver = False\n",
    "        self.boardHash = None\n",
    "        # ход первого игрока\n",
    "        self.curTurn = 1\n",
    "        self.emptySpaces = None\n",
    "        \n",
    "        self.reset()\n",
    "\n",
    "    def getEmptySpaces(self):\n",
    "        if self.emptySpaces is None:\n",
    "            res = np.where(self.board == 0)\n",
    "            self.emptySpaces = np.array([ (i, j) for i,j in zip(res[0], res[1]) ])\n",
    "        return self.emptySpaces\n",
    "\n",
    "    def makeMove(self, player, i, j):\n",
    "        self.board[i, j] = player\n",
    "        self.emptySpaces = None\n",
    "        self.boardHash = None\n",
    "\n",
    "    def getHash(self):\n",
    "        if self.boardHash is None:\n",
    "            self.boardHash = ''.join(['%s' % (x+1) for x in self.board.reshape(self.n_rows * self.n_cols)])\n",
    "        return self.boardHash\n",
    "\n",
    "    def _check_terminal(self, cur_p):\n",
    "        cur_marks = np.where(self.board == cur_p)\n",
    "        for i,j in zip(cur_marks[0], cur_marks[1]):\n",
    "            if i <= self.n_rows - self.n_win:\n",
    "                if np.all(self.board[i:i+self.n_win, j] == cur_p):\n",
    "                    return True\n",
    "            if j <= self.n_cols - self.n_win:\n",
    "                if np.all(self.board[i,j:j+self.n_win] == cur_p):\n",
    "                    return True\n",
    "            if i <= self.n_rows - self.n_win and j <= self.n_cols - self.n_win:\n",
    "                if np.all(np.array([ self.board[i+k,j+k] == cur_p for k in range(self.n_win) ])):\n",
    "                    return True\n",
    "            if i <= self.n_rows - self.n_win and j >= self.n_win-1:\n",
    "                if np.all(np.array([ self.board[i+k,j-k] == cur_p for k in range(self.n_win) ])):\n",
    "                    return True\n",
    "        return False\n",
    "    \n",
    "    def isTerminal(self):\n",
    "        # проверим, не закончилась ли игра\n",
    "        cur_win = self._check_terminal(self.curTurn)\n",
    "        if cur_win:\n",
    "                self.gameOver = True\n",
    "                return self.curTurn\n",
    "            \n",
    "        if len(self.getEmptySpaces()) == 0:\n",
    "            self.gameOver = True\n",
    "            return 0\n",
    "\n",
    "        self.gameOver = False\n",
    "        return None\n",
    "\n",
    "    def getWinner(self):\n",
    "        # фактически запускаем isTerminal два раза для крестиков и ноликов\n",
    "        if self._check_terminal(1):\n",
    "            return 1\n",
    "        if self._check_terminal(-1):\n",
    "            return -1\n",
    "        if len(self.getEmptySpaces()) == 0:\n",
    "            return 0\n",
    "        return None\n",
    "    \n",
    "    def printBoard(self):\n",
    "        for i in range(0, self.n_rows):\n",
    "            print('----'*(self.n_cols)+'-')\n",
    "            out = '| '\n",
    "            for j in range(0, self.n_cols):\n",
    "                if self.board[i, j] == 1:\n",
    "                    token = 'x'\n",
    "                if self.board[i, j] == -1:\n",
    "                    token = 'o'\n",
    "                if self.board[i, j] == 0:\n",
    "                    token = ' '\n",
    "                out += token + ' | '\n",
    "            print(out)\n",
    "        print('----'*(self.n_cols)+'-')\n",
    "\n",
    "    def getState(self):\n",
    "        return (self.getHash(), self.getEmptySpaces(), self.curTurn)\n",
    "\n",
    "    def action_from_int(self, action_int):\n",
    "        return ( int(action_int / self.n_cols), int(action_int % self.n_cols))\n",
    "\n",
    "    def int_from_action(self, action):\n",
    "        return action[0] * self.n_cols + action[1]\n",
    "    \n",
    "    def step(self, action):\n",
    "        if self.board[action[0], action[1]] != 0:\n",
    "            return self.getState(), -10, True, {}\n",
    "        self.makeMove(self.curTurn, action[0], action[1])\n",
    "        reward = self.isTerminal()\n",
    "        self.curTurn = -self.curTurn\n",
    "        return self.getState(), 0 if reward is None else reward, reward is not None, {}\n",
    "\n",
    "    def reset(self):\n",
    "        self.board = np.zeros((self.n_rows, self.n_cols), dtype=int)\n",
    "        self.boardHash = None\n",
    "        self.gameOver = False\n",
    "        self.emptySpaces = None\n",
    "        self.curTurn = 1"
   ]
  },
  {
   "cell_type": "code",
   "execution_count": 5,
   "metadata": {},
   "outputs": [],
   "source": [
    "class Strategy():\n",
    "    def __init__(self, epsilon=0.1):\n",
    "        self.Q = {}\n",
    "        self.epsilon = epsilon\n",
    "        pass\n",
    "    \n",
    "    def getAction(self, s, num_actions, pi2=None, init_zero=False):\n",
    "        if s not in self.Q:\n",
    "            if init_zero:\n",
    "                self.Q[s] = np.zeros(num_actions)\n",
    "            else:\n",
    "                self.Q[s] = np.random.random(size=num_actions) * 2 - 1\n",
    "        if pi2 is not None:\n",
    "            if s not in pi2.Q:\n",
    "                if init_zero:\n",
    "                    pi2.Q[s] = np.zeros(num_actions)\n",
    "                else:\n",
    "                    pi2.Q[s] = np.random.random(size=num_actions) * 2 - 1\n",
    "            return np.argmax(self.Q[s] + pi2.Q[s]) if np.random.rand() > self.epsilon else np.random.randint(num_actions)\n",
    "        return np.argmax(self.Q[s]) if np.random.rand() > self.epsilon else np.random.randint(num_actions)\n",
    "\n",
    "    def getActionGreedy(self, s, num_actions, pi2=None, init_zero=False):\n",
    "        if s not in self.Q:\n",
    "            return np.random.randint(num_actions)\n",
    "        if pi2 is not None:\n",
    "            if s not in pi2.Q:\n",
    "                if init_zero:\n",
    "                    pi2.Q[s] = np.zeros(num_actions)\n",
    "                else:\n",
    "                    pi2.Q[s] = np.random.random(size=num_actions) * 2 - 1\n",
    "            return np.argmax(self.Q[s] + pi2.Q[s])\n",
    "        return np.argmax(self.Q[s])\n",
    "    \n",
    "    def updateQ(self, s, a, goal, num_actions, alpha=0.1):\n",
    "        if s not in self.Q:\n",
    "            self.Q[s] = np.zeros(num_actions)\n",
    "        self.Q[s][a] += alpha * (goal - self.Q[s][a])"
   ]
  },
  {
   "cell_type": "code",
   "execution_count": 6,
   "metadata": {},
   "outputs": [],
   "source": [
    "def plot_board(env, pi, showtext=True, verbose=True):\n",
    "    '''Рисуем доску с оценками из стратегии pi'''\n",
    "    fig, ax = plt.subplots(1, 1, figsize=(8, 8))\n",
    "    X, Y = np.meshgrid(np.arange(0, env.n_rows), np.arange(0, env.n_rows))\n",
    "    Z = np.zeros((env.n_rows, env.n_cols)) + .01\n",
    "    s, actions = env.getHash(), env.getEmptySpaces()\n",
    "    if pi is not None and s in pi.Q:\n",
    "        for i, a in enumerate(actions):\n",
    "            Z[a[0], a[1]] = pi.Q[s][i]\n",
    "    ax.set_xticks([])\n",
    "    ax.set_yticks([])\n",
    "    surf = ax.imshow(Z, cmap=plt.get_cmap('Accent', 10), vmin=-1, vmax=1)\n",
    "    if showtext:\n",
    "        for i,a in enumerate(actions):\n",
    "            if pi is not None and s in pi.Q:\n",
    "                ax.text( a[1] , a[0] , \"%.3f\" % pi.Q[s][i], fontsize=20, horizontalalignment='center', verticalalignment='center', color=\"w\" )\n",
    "            else:\n",
    "                ax.text( a[1] , a[0] , \"???\", fontsize=20, horizontalalignment='center', verticalalignment='center', color=\"w\" )\n",
    "    for i in range(env.n_rows):\n",
    "        for j in range(env.n_cols):\n",
    "            if env.board[i, j] == -1:\n",
    "                ax.text(j, i, \"O\", fontsize=60, horizontalalignment='center', verticalalignment='center', color=\"w\" )\n",
    "            if env.board[i, j] == 1:\n",
    "                ax.text(j, i, \"X\", fontsize=60, horizontalalignment='center', verticalalignment='center', color=\"w\" )\n",
    "    cbar = plt.colorbar(surf, ticks=[0, 1])\n",
    "    ax.grid(False)\n",
    "    plt.show()\n",
    "\n",
    "def get_and_print_move(env, pi, s, actions, random=False, verbose=True):\n",
    "    '''Делаем ход, рисуем доску'''\n",
    "    #plot_board(env, pi)\n",
    "    if random:\n",
    "        return np.random.randint(len(actions))\n",
    "    else:\n",
    "        if verbose:\n",
    "            if pi is not None and s in pi.Q:\n",
    "                for i,a in enumerate(actions):\n",
    "                    print(i, a, pi.Q[s][i])\n",
    "            else:\n",
    "                print(\"Стратегия не знает, что делать...\")\n",
    "        return pi.getActionGreedy(s, len(actions))\n",
    "\n",
    "def plot_test_game(env, pi1, pi2, random_crosses=False, random_naughts=True, verbose=True):\n",
    "    '''Играем тестовую партию между стратегиями или со случайными ходами, рисуем ход игры'''\n",
    "    done = False\n",
    "    env.reset()\n",
    "    while not done:\n",
    "        s, actions = env.getHash(), env.getEmptySpaces()\n",
    "        if env.curTurn == 1:\n",
    "            a = get_and_print_move(env, pi1, s, actions, random=random_crosses, verbose=verbose)\n",
    "        else:\n",
    "            a = get_and_print_move(env, pi2, s, actions, random=random_naughts, verbose=verbose)\n",
    "        observation, reward, done, info = env.step(actions[a])\n",
    "        if verbose:\n",
    "            env.printBoard()\n",
    "        if reward == 1:\n",
    "            print(\"Крестики выиграли!\")\n",
    "            plot_board(env, None, showtext=False)\n",
    "        if reward == -1:\n",
    "            print(\"Нолики выиграли!\")\n",
    "            plot_board(env, None, showtext=False)"
   ]
  },
  {
   "cell_type": "markdown",
   "metadata": {},
   "source": [
    "Создадим 2 окружения, которыми будем пользоваться в дальнейшем:"
   ]
  },
  {
   "cell_type": "code",
   "execution_count": 7,
   "metadata": {},
   "outputs": [],
   "source": [
    "env_3 = TicTacToe(n_rows=3, n_cols=3, n_win=3)\n",
    "env_5 = TicTacToe(n_rows=5, n_cols=5, n_win=5)"
   ]
  },
  {
   "cell_type": "markdown",
   "metadata": {},
   "source": [
    "# Часть первая: крестики-нолики при помощи Q-обучения\n",
    "В коде, прилагающемся к последней лекции про обучение с подкреплением, реализован Environment для крестиков-ноликов, в котором можно при инициализации указывать разные размеры доски и условия победы, а также функции для рисования, в том числе с указанием оценки различных действий. С этим окружением все задания и связаны.\n",
    "1. Реализуйте обычное (табличное) Q-обучение. Обучите стратегии крестиков и ноликов для доски 3х3.\n",
    "2. Попробуйте обучить стратегии крестиков и ноликов для доски 4х4 и/или 5х5.\n"
   ]
  },
  {
   "cell_type": "markdown",
   "metadata": {},
   "source": [
    "## 1"
   ]
  },
  {
   "cell_type": "markdown",
   "metadata": {},
   "source": [
    "Зададим константы, удобные для чтения и использования в коде:"
   ]
  },
  {
   "cell_type": "code",
   "execution_count": 8,
   "metadata": {},
   "outputs": [],
   "source": [
    "CROSSES = 1\n",
    "NAUGHTS = -1"
   ]
  },
  {
   "cell_type": "markdown",
   "metadata": {},
   "source": [
    "Нам может пригодиться использование \"агентов\" разного вида, но с одним интерфейсом, чтобы не плодить много лишнего кода. Создадим:\n",
    "- Policy\n",
    "- RandomPolicy\n",
    "- EpsilonGreedyPolicy"
   ]
  },
  {
   "cell_type": "code",
   "execution_count": 9,
   "metadata": {},
   "outputs": [],
   "source": [
    "from abc import ABC, abstractmethod\n",
    "from collections import namedtuple\n",
    "from typing import Dict, List"
   ]
  },
  {
   "cell_type": "code",
   "execution_count": 10,
   "metadata": {},
   "outputs": [],
   "source": [
    "class Policy(object):\n",
    "    @abstractmethod\n",
    "    def get_action(self, **kwargs):\n",
    "        raise NotImplementedError()"
   ]
  },
  {
   "cell_type": "code",
   "execution_count": 11,
   "metadata": {},
   "outputs": [],
   "source": [
    "class RandomPolicy(Policy):\n",
    "    def get_action(self, observation: tuple, **kwargs):\n",
    "        board, current_action_space, cur_player = observation\n",
    "        return np.random.randint(len(current_action_space))"
   ]
  },
  {
   "cell_type": "code",
   "execution_count": 12,
   "metadata": {},
   "outputs": [],
   "source": [
    "class EpsilonGreedyPolicy(Policy):\n",
    "    def __init__(self, eps=0.1):\n",
    "        self.Q = {}\n",
    "        self.eps = eps\n",
    "        \n",
    "    def get_action(self, observation: tuple, **kwargs):\n",
    "        board, current_action_space, cur_player = observation\n",
    "        \n",
    "        if random.random() >= self.eps and board in self.Q:\n",
    "            return np.argmax(self.Q[board])\n",
    "\n",
    "        if board not in self.Q:\n",
    "            self.Q[board] = np.zeros(len(current_action_space))\n",
    "\n",
    "        return np.random.randint(len(current_action_space))\n",
    "        \n",
    "    def decrease_eps(self, new_eps: float):\n",
    "        self.eps = new_eps"
   ]
  },
  {
   "cell_type": "markdown",
   "metadata": {},
   "source": [
    "Попробуем одновременно обучать крестики и нолики, а результат смотреть по их играм с рандомной стратегией:"
   ]
  },
  {
   "cell_type": "code",
   "execution_count": 354,
   "metadata": {},
   "outputs": [],
   "source": [
    "def episode(env, policies: dict):\n",
    "    env.reset()\n",
    "    all_possible_actions = env.getEmptySpaces()\n",
    "    observation = env.getState()\n",
    "    board, current_action_space, cur_player = observation\n",
    "    done = False\n",
    "    \n",
    "    while not done:\n",
    "        policy: Policy = policies[cur_player]\n",
    "        action = policy.get_action(observation, observation_board=env.board)\n",
    "        if isinstance(policy, RandomPolicy) or isinstance(policy, EpsilonGreedyPolicy):\n",
    "            action: tuple = current_action_space[action]\n",
    "        elif isinstance(policy, MCTSPolicy):\n",
    "            action = action\n",
    "        else:\n",
    "            action: tuple = all_possible_actions[action]\n",
    "        observation, reward, done, info = env.step(action)\n",
    "        board, current_action_space, cur_player = observation\n",
    "\n",
    "    return reward"
   ]
  },
  {
   "cell_type": "code",
   "execution_count": 345,
   "metadata": {},
   "outputs": [],
   "source": [
    "\"\"\"Структура для обращения к статистике\"\"\"\n",
    "Statistics = namedtuple(\"Statistics\", [\"crosses\", \"naughts\", \"draws\", \"minus_10\"])\n",
    "\"\"\"Структура для обращения к предыдущему состоянию и действию\"\"\"\n",
    "LastState = namedtuple(\"LastState\", [\"s\", \"a\"])"
   ]
  },
  {
   "cell_type": "code",
   "execution_count": 346,
   "metadata": {},
   "outputs": [],
   "source": [
    "def inference(env, policies: dict, num_experiments: int = 1000):\n",
    "    crosses_wins = 0\n",
    "    naughts_wins = 0\n",
    "    draws = 0\n",
    "    minus_10 = 0\n",
    "    for i in tqdm(range(num_experiments)):\n",
    "        reward = episode(env, {CROSSES: policies[CROSSES], NAUGHTS: policies[NAUGHTS]})\n",
    "        crosses_wins += 1 if reward == CROSSES else 0\n",
    "        naughts_wins += 1 if reward == NAUGHTS else 0\n",
    "        draws += 1 if reward == 0 else 0\n",
    "        minus_10 += 1 if reward == -10 else 0\n",
    "        \n",
    "    crosses_wins_stats = crosses_wins / num_experiments\n",
    "    naughts_wins_stats = naughts_wins / num_experiments\n",
    "    draws_stats = draws / num_experiments\n",
    "    minus_10_stats = minus_10 / num_experiments\n",
    "\n",
    "    return Statistics(crosses_wins_stats, naughts_wins_stats, draws_stats, minus_10_stats)"
   ]
  },
  {
   "cell_type": "code",
   "execution_count": 16,
   "metadata": {},
   "outputs": [],
   "source": [
    "def q_episode(\n",
    "    env,\n",
    "    policies: dict,\n",
    "    alpha,\n",
    "    gamma\n",
    "):\n",
    "    last_states = {\n",
    "        CROSSES: LastState(None, None),\n",
    "        NAUGHTS: LastState(None, None)\n",
    "    }\n",
    "    env.reset()\n",
    "    observation = env.getState()\n",
    "    board, current_action_space, cur_player = observation\n",
    "    done = False\n",
    "    \n",
    "    while not done:\n",
    "        action: int = policies[cur_player].get_action(observation)\n",
    "        observation, reward, done, info = env.step(current_action_space[action])\n",
    "        #если игрок получил нужную награду\n",
    "        if reward == cur_player:\n",
    "            policies[cur_player].Q[board][action] = abs(reward)\n",
    "        \n",
    "        next_board, next_action_space, next_player = observation\n",
    "        last_s, last_a = last_states[next_player].s, last_states[next_player].a\n",
    "        if last_s is not None:\n",
    "            goal = gamma * np.max(policies[next_player].Q[next_board]) \\\n",
    "                         if next_board in policies[next_player].Q else 0\n",
    "            policies[next_player].Q[last_s][last_a] += \\\n",
    "                        alpha * (-reward + goal - policies[next_player].Q[last_s][last_a])\n",
    "\n",
    "        last_states[cur_player] = LastState(board, action)\n",
    "        board, current_action_space, cur_player = next_board, next_action_space, next_player\n",
    "    \n",
    "    return policies"
   ]
  },
  {
   "cell_type": "code",
   "execution_count": 17,
   "metadata": {},
   "outputs": [],
   "source": [
    "def q_learning(\n",
    "    env,\n",
    "    policies: dict,\n",
    "    n_episodes,\n",
    "    alpha=0.01,\n",
    "    gamma=0.99,\n",
    "    inference_every=1000,\n",
    "    inference_epochs=1000,\n",
    "    eps=0.9,\n",
    "    eps_last=0.01,\n",
    "    eps_decay=2000\n",
    "    \n",
    "):\n",
    "    history: Dict[List[Statistics]] = {\n",
    "        CROSSES: [],\n",
    "        NAUGHTS: []\n",
    "    }\n",
    "    for episode in range(n_episodes):\n",
    "        current_eps = eps + (eps_last - eps) * episode / eps_decay\n",
    "        [policy.decrease_eps(current_eps) for policy in policies.values()]\n",
    "        policies = q_episode(env, policies, alpha, gamma)\n",
    "        \n",
    "        if episode % inference_every == 0:\n",
    "            history[CROSSES].append(inference(env, {CROSSES: policies[CROSSES], NAUGHTS: RandomPolicy()}, \n",
    "                                              num_experiments=inference_epochs))\n",
    "            history[NAUGHTS].append(inference(env, {CROSSES: RandomPolicy(), NAUGHTS: policies[NAUGHTS]},\n",
    "                                             num_experiments=inference_epochs))\n",
    "            print(f\"Crosses stats epoch {episode}: {history[CROSSES][-1]}\")\n",
    "            print(f\"Naughts stats epoch {episode}: {history[NAUGHTS][-1]}\")\n",
    "    return history"
   ]
  },
  {
   "cell_type": "code",
   "execution_count": 30,
   "metadata": {},
   "outputs": [],
   "source": [
    "POLICIES = {\n",
    "    CROSSES: EpsilonGreedyPolicy(),\n",
    "    NAUGHTS: EpsilonGreedyPolicy()\n",
    "}"
   ]
  },
  {
   "cell_type": "code",
   "execution_count": 31,
   "metadata": {},
   "outputs": [
    {
     "name": "stderr",
     "output_type": "stream",
     "text": [
      "100%|████████████████████████████████████████████████████████████| 1000/1000 [00:00<00:00, 3141.03it/s]\n",
      "100%|████████████████████████████████████████████████████████████| 1000/1000 [00:00<00:00, 3626.46it/s]\n"
     ]
    },
    {
     "name": "stdout",
     "output_type": "stream",
     "text": [
      "Crosses stats epoch 0: Statistics(crosses=0.581, naughts=0.286, draws=0.133)\n",
      "Naughts stats epoch 0: Statistics(crosses=0.549, naughts=0.305, draws=0.146)\n"
     ]
    },
    {
     "name": "stderr",
     "output_type": "stream",
     "text": [
      "100%|████████████████████████████████████████████████████████████| 1000/1000 [00:00<00:00, 3616.23it/s]\n",
      "100%|████████████████████████████████████████████████████████████| 1000/1000 [00:00<00:00, 3620.47it/s]\n"
     ]
    },
    {
     "name": "stdout",
     "output_type": "stream",
     "text": [
      "Crosses stats epoch 1000: Statistics(crosses=0.591, naughts=0.282, draws=0.127)\n",
      "Naughts stats epoch 1000: Statistics(crosses=0.535, naughts=0.313, draws=0.152)\n"
     ]
    },
    {
     "name": "stderr",
     "output_type": "stream",
     "text": [
      "100%|████████████████████████████████████████████████████████████| 1000/1000 [00:00<00:00, 3668.42it/s]\n",
      "100%|████████████████████████████████████████████████████████████| 1000/1000 [00:00<00:00, 3714.09it/s]\n"
     ]
    },
    {
     "name": "stdout",
     "output_type": "stream",
     "text": [
      "Crosses stats epoch 2000: Statistics(crosses=0.624, naughts=0.272, draws=0.104)\n",
      "Naughts stats epoch 2000: Statistics(crosses=0.541, naughts=0.334, draws=0.125)\n"
     ]
    },
    {
     "name": "stderr",
     "output_type": "stream",
     "text": [
      "100%|████████████████████████████████████████████████████████████| 1000/1000 [00:00<00:00, 3758.98it/s]\n",
      "100%|████████████████████████████████████████████████████████████| 1000/1000 [00:00<00:00, 3717.27it/s]\n"
     ]
    },
    {
     "name": "stdout",
     "output_type": "stream",
     "text": [
      "Crosses stats epoch 3000: Statistics(crosses=0.646, naughts=0.258, draws=0.096)\n",
      "Naughts stats epoch 3000: Statistics(crosses=0.498, naughts=0.367, draws=0.135)\n"
     ]
    },
    {
     "name": "stderr",
     "output_type": "stream",
     "text": [
      "100%|████████████████████████████████████████████████████████████| 1000/1000 [00:00<00:00, 3827.02it/s]\n",
      "100%|████████████████████████████████████████████████████████████| 1000/1000 [00:00<00:00, 3760.23it/s]\n"
     ]
    },
    {
     "name": "stdout",
     "output_type": "stream",
     "text": [
      "Crosses stats epoch 4000: Statistics(crosses=0.679, naughts=0.222, draws=0.099)\n",
      "Naughts stats epoch 4000: Statistics(crosses=0.488, naughts=0.386, draws=0.126)\n"
     ]
    },
    {
     "name": "stderr",
     "output_type": "stream",
     "text": [
      "100%|████████████████████████████████████████████████████████████| 1000/1000 [00:00<00:00, 3842.06it/s]\n",
      "100%|████████████████████████████████████████████████████████████| 1000/1000 [00:00<00:00, 3704.18it/s]\n"
     ]
    },
    {
     "name": "stdout",
     "output_type": "stream",
     "text": [
      "Crosses stats epoch 5000: Statistics(crosses=0.702, naughts=0.207, draws=0.091)\n",
      "Naughts stats epoch 5000: Statistics(crosses=0.455, naughts=0.397, draws=0.148)\n"
     ]
    },
    {
     "name": "stderr",
     "output_type": "stream",
     "text": [
      "100%|████████████████████████████████████████████████████████████| 1000/1000 [00:00<00:00, 3934.36it/s]\n",
      "100%|████████████████████████████████████████████████████████████| 1000/1000 [00:00<00:00, 3704.46it/s]\n"
     ]
    },
    {
     "name": "stdout",
     "output_type": "stream",
     "text": [
      "Crosses stats epoch 6000: Statistics(crosses=0.722, naughts=0.195, draws=0.083)\n",
      "Naughts stats epoch 6000: Statistics(crosses=0.454, naughts=0.415, draws=0.131)\n"
     ]
    },
    {
     "name": "stderr",
     "output_type": "stream",
     "text": [
      "100%|████████████████████████████████████████████████████████████| 1000/1000 [00:00<00:00, 3912.83it/s]\n",
      "100%|████████████████████████████████████████████████████████████| 1000/1000 [00:00<00:00, 3683.57it/s]\n"
     ]
    },
    {
     "name": "stdout",
     "output_type": "stream",
     "text": [
      "Crosses stats epoch 7000: Statistics(crosses=0.753, naughts=0.173, draws=0.074)\n",
      "Naughts stats epoch 7000: Statistics(crosses=0.407, naughts=0.46, draws=0.133)\n"
     ]
    },
    {
     "name": "stderr",
     "output_type": "stream",
     "text": [
      "100%|████████████████████████████████████████████████████████████| 1000/1000 [00:00<00:00, 4004.53it/s]\n",
      "100%|████████████████████████████████████████████████████████████| 1000/1000 [00:00<00:00, 3717.17it/s]\n"
     ]
    },
    {
     "name": "stdout",
     "output_type": "stream",
     "text": [
      "Crosses stats epoch 8000: Statistics(crosses=0.785, naughts=0.155, draws=0.06)\n",
      "Naughts stats epoch 8000: Statistics(crosses=0.371, naughts=0.487, draws=0.142)\n"
     ]
    },
    {
     "name": "stderr",
     "output_type": "stream",
     "text": [
      "100%|████████████████████████████████████████████████████████████| 1000/1000 [00:00<00:00, 4055.72it/s]\n",
      "100%|████████████████████████████████████████████████████████████| 1000/1000 [00:00<00:00, 3737.94it/s]\n"
     ]
    },
    {
     "name": "stdout",
     "output_type": "stream",
     "text": [
      "Crosses stats epoch 9000: Statistics(crosses=0.78, naughts=0.153, draws=0.067)\n",
      "Naughts stats epoch 9000: Statistics(crosses=0.356, naughts=0.505, draws=0.139)\n"
     ]
    },
    {
     "name": "stderr",
     "output_type": "stream",
     "text": [
      "100%|████████████████████████████████████████████████████████████| 1000/1000 [00:00<00:00, 4204.65it/s]\n",
      "100%|████████████████████████████████████████████████████████████| 1000/1000 [00:00<00:00, 3815.42it/s]\n"
     ]
    },
    {
     "name": "stdout",
     "output_type": "stream",
     "text": [
      "Crosses stats epoch 10000: Statistics(crosses=0.824, naughts=0.125, draws=0.051)\n",
      "Naughts stats epoch 10000: Statistics(crosses=0.349, naughts=0.536, draws=0.115)\n"
     ]
    },
    {
     "name": "stderr",
     "output_type": "stream",
     "text": [
      "100%|████████████████████████████████████████████████████████████| 1000/1000 [00:00<00:00, 4264.65it/s]\n",
      "100%|████████████████████████████████████████████████████████████| 1000/1000 [00:00<00:00, 3784.35it/s]\n"
     ]
    },
    {
     "name": "stdout",
     "output_type": "stream",
     "text": [
      "Crosses stats epoch 11000: Statistics(crosses=0.836, naughts=0.112, draws=0.052)\n",
      "Naughts stats epoch 11000: Statistics(crosses=0.299, naughts=0.591, draws=0.11)\n"
     ]
    },
    {
     "name": "stderr",
     "output_type": "stream",
     "text": [
      "100%|████████████████████████████████████████████████████████████| 1000/1000 [00:00<00:00, 4083.69it/s]\n",
      "100%|████████████████████████████████████████████████████████████| 1000/1000 [00:00<00:00, 3779.99it/s]\n"
     ]
    },
    {
     "name": "stdout",
     "output_type": "stream",
     "text": [
      "Crosses stats epoch 12000: Statistics(crosses=0.835, naughts=0.125, draws=0.04)\n",
      "Naughts stats epoch 12000: Statistics(crosses=0.272, naughts=0.593, draws=0.135)\n"
     ]
    },
    {
     "name": "stderr",
     "output_type": "stream",
     "text": [
      "100%|████████████████████████████████████████████████████████████| 1000/1000 [00:00<00:00, 4407.01it/s]\n",
      "100%|████████████████████████████████████████████████████████████| 1000/1000 [00:00<00:00, 3837.67it/s]\n"
     ]
    },
    {
     "name": "stdout",
     "output_type": "stream",
     "text": [
      "Crosses stats epoch 13000: Statistics(crosses=0.875, naughts=0.1, draws=0.025)\n",
      "Naughts stats epoch 13000: Statistics(crosses=0.222, naughts=0.663, draws=0.115)\n"
     ]
    },
    {
     "name": "stderr",
     "output_type": "stream",
     "text": [
      "100%|████████████████████████████████████████████████████████████| 1000/1000 [00:00<00:00, 4488.37it/s]\n",
      "100%|████████████████████████████████████████████████████████████| 1000/1000 [00:00<00:00, 3803.73it/s]\n"
     ]
    },
    {
     "name": "stdout",
     "output_type": "stream",
     "text": [
      "Crosses stats epoch 14000: Statistics(crosses=0.896, naughts=0.085, draws=0.019)\n",
      "Naughts stats epoch 14000: Statistics(crosses=0.244, naughts=0.646, draws=0.11)\n"
     ]
    },
    {
     "name": "stderr",
     "output_type": "stream",
     "text": [
      "100%|████████████████████████████████████████████████████████████| 1000/1000 [00:00<00:00, 4583.33it/s]\n",
      "100%|████████████████████████████████████████████████████████████| 1000/1000 [00:00<00:00, 3828.74it/s]\n"
     ]
    },
    {
     "name": "stdout",
     "output_type": "stream",
     "text": [
      "Crosses stats epoch 15000: Statistics(crosses=0.898, naughts=0.078, draws=0.024)\n",
      "Naughts stats epoch 15000: Statistics(crosses=0.202, naughts=0.68, draws=0.118)\n"
     ]
    },
    {
     "name": "stderr",
     "output_type": "stream",
     "text": [
      "100%|████████████████████████████████████████████████████████████| 1000/1000 [00:00<00:00, 4544.52it/s]\n",
      "100%|████████████████████████████████████████████████████████████| 1000/1000 [00:00<00:00, 3846.30it/s]\n"
     ]
    },
    {
     "name": "stdout",
     "output_type": "stream",
     "text": [
      "Crosses stats epoch 16000: Statistics(crosses=0.914, naughts=0.07, draws=0.016)\n",
      "Naughts stats epoch 16000: Statistics(crosses=0.193, naughts=0.689, draws=0.118)\n"
     ]
    },
    {
     "name": "stderr",
     "output_type": "stream",
     "text": [
      "100%|████████████████████████████████████████████████████████████| 1000/1000 [00:00<00:00, 4683.56it/s]\n",
      "100%|████████████████████████████████████████████████████████████| 1000/1000 [00:00<00:00, 3886.48it/s]\n"
     ]
    },
    {
     "name": "stdout",
     "output_type": "stream",
     "text": [
      "Crosses stats epoch 17000: Statistics(crosses=0.95, naughts=0.041, draws=0.009)\n",
      "Naughts stats epoch 17000: Statistics(crosses=0.193, naughts=0.703, draws=0.104)\n"
     ]
    },
    {
     "name": "stderr",
     "output_type": "stream",
     "text": [
      "100%|████████████████████████████████████████████████████████████| 1000/1000 [00:00<00:00, 4729.92it/s]\n",
      "100%|████████████████████████████████████████████████████████████| 1000/1000 [00:00<00:00, 3937.92it/s]\n"
     ]
    },
    {
     "name": "stdout",
     "output_type": "stream",
     "text": [
      "Crosses stats epoch 18000: Statistics(crosses=0.948, naughts=0.047, draws=0.005)\n",
      "Naughts stats epoch 18000: Statistics(crosses=0.164, naughts=0.744, draws=0.092)\n"
     ]
    },
    {
     "name": "stderr",
     "output_type": "stream",
     "text": [
      "100%|████████████████████████████████████████████████████████████| 1000/1000 [00:00<00:00, 4867.18it/s]\n",
      "100%|████████████████████████████████████████████████████████████| 1000/1000 [00:00<00:00, 3948.90it/s]\n"
     ]
    },
    {
     "name": "stdout",
     "output_type": "stream",
     "text": [
      "Crosses stats epoch 19000: Statistics(crosses=0.968, naughts=0.03, draws=0.002)\n",
      "Naughts stats epoch 19000: Statistics(crosses=0.162, naughts=0.738, draws=0.1)\n"
     ]
    },
    {
     "name": "stderr",
     "output_type": "stream",
     "text": [
      "100%|████████████████████████████████████████████████████████████| 1000/1000 [00:00<00:00, 4838.63it/s]\n",
      "100%|████████████████████████████████████████████████████████████| 1000/1000 [00:00<00:00, 3916.60it/s]\n"
     ]
    },
    {
     "name": "stdout",
     "output_type": "stream",
     "text": [
      "Crosses stats epoch 20000: Statistics(crosses=0.962, naughts=0.035, draws=0.003)\n",
      "Naughts stats epoch 20000: Statistics(crosses=0.144, naughts=0.742, draws=0.114)\n"
     ]
    },
    {
     "name": "stderr",
     "output_type": "stream",
     "text": [
      "100%|████████████████████████████████████████████████████████████| 1000/1000 [00:00<00:00, 4912.22it/s]\n",
      "100%|████████████████████████████████████████████████████████████| 1000/1000 [00:00<00:00, 3885.58it/s]\n"
     ]
    },
    {
     "name": "stdout",
     "output_type": "stream",
     "text": [
      "Crosses stats epoch 21000: Statistics(crosses=0.973, naughts=0.024, draws=0.003)\n",
      "Naughts stats epoch 21000: Statistics(crosses=0.15, naughts=0.741, draws=0.109)\n"
     ]
    },
    {
     "name": "stderr",
     "output_type": "stream",
     "text": [
      "100%|████████████████████████████████████████████████████████████| 1000/1000 [00:00<00:00, 4886.18it/s]\n",
      "100%|████████████████████████████████████████████████████████████| 1000/1000 [00:00<00:00, 3844.55it/s]\n"
     ]
    },
    {
     "name": "stdout",
     "output_type": "stream",
     "text": [
      "Crosses stats epoch 22000: Statistics(crosses=0.966, naughts=0.033, draws=0.001)\n",
      "Naughts stats epoch 22000: Statistics(crosses=0.167, naughts=0.722, draws=0.111)\n"
     ]
    },
    {
     "name": "stderr",
     "output_type": "stream",
     "text": [
      "100%|████████████████████████████████████████████████████████████| 1000/1000 [00:00<00:00, 4934.28it/s]\n",
      "100%|████████████████████████████████████████████████████████████| 1000/1000 [00:00<00:00, 3907.35it/s]\n"
     ]
    },
    {
     "name": "stdout",
     "output_type": "stream",
     "text": [
      "Crosses stats epoch 23000: Statistics(crosses=0.973, naughts=0.025, draws=0.002)\n",
      "Naughts stats epoch 23000: Statistics(crosses=0.153, naughts=0.746, draws=0.101)\n"
     ]
    },
    {
     "name": "stderr",
     "output_type": "stream",
     "text": [
      "100%|████████████████████████████████████████████████████████████| 1000/1000 [00:00<00:00, 4886.63it/s]\n",
      "100%|████████████████████████████████████████████████████████████| 1000/1000 [00:00<00:00, 3868.16it/s]\n"
     ]
    },
    {
     "name": "stdout",
     "output_type": "stream",
     "text": [
      "Crosses stats epoch 24000: Statistics(crosses=0.964, naughts=0.033, draws=0.003)\n",
      "Naughts stats epoch 24000: Statistics(crosses=0.162, naughts=0.728, draws=0.11)\n"
     ]
    }
   ],
   "source": [
    "history = q_learning(\n",
    "    env_3,\n",
    "    policies=POLICIES,\n",
    "    n_episodes=25000,\n",
    "    alpha=0.01,\n",
    "    gamma=0.95,\n",
    "    eps_decay=18000\n",
    ")"
   ]
  },
  {
   "cell_type": "code",
   "execution_count": 49,
   "metadata": {},
   "outputs": [],
   "source": [
    "def plot_history(history):\n",
    "    fig, ax = plt.subplots(figsize=(12, 8))\n",
    "\n",
    "    ax.plot(list(map(lambda x: x.crosses, history[1])), label=\"Crosses\")\n",
    "    ax.plot(list(map(lambda x: x.naughts, history[-1])), label=\"Naughts\")\n",
    "    ax.set_xlabel(\"Inference epoch\", fontsize=14)\n",
    "    ax.set_ylabel(\"Score\", fontsize=14)\n",
    "    ax.grid()\n",
    "    ax.legend();"
   ]
  },
  {
   "cell_type": "code",
   "execution_count": 33,
   "metadata": {},
   "outputs": [
    {
     "data": {
      "image/png": "[encoded data removed]",
      "text/plain": [
       "<Figure size 864x576 with 1 Axes>"
      ]
     },
     "metadata": {
      "needs_background": "light"
     },
     "output_type": "display_data"
    }
   ],
   "source": [
    "fig, ax = plt.subplots(figsize=(12, 8))\n",
    "\n",
    "ax.plot(list(map(lambda x: x.crosses, history[1])), label=\"Crosses\")\n",
    "ax.plot(list(map(lambda x: x.naughts, history[-1])), label=\"Naughts\")\n",
    "ax.set_xlabel(\"Inference epoch\", fontsize=14)\n",
    "ax.set_ylabel(\"Score\", fontsize=14)\n",
    "ax.grid()\n",
    "ax.legend();"
   ]
  },
  {
   "cell_type": "markdown",
   "metadata": {},
   "source": [
    "**Вывод:** видно, что обучение происходит, и, что совершенно понятно, начинающие ходить первыми крестики в целом имеют преимущество."
   ]
  },
  {
   "cell_type": "markdown",
   "metadata": {},
   "source": [
    "## 2"
   ]
  },
  {
   "cell_type": "markdown",
   "metadata": {},
   "source": [
    "Проведем тот же самый эксперимент для доски чуть больше:"
   ]
  },
  {
   "cell_type": "code",
   "execution_count": 71,
   "metadata": {},
   "outputs": [],
   "source": [
    "POLICIES_5 = {\n",
    "    CROSSES: EpsilonGreedyPolicy(),\n",
    "    NAUGHTS: EpsilonGreedyPolicy()\n",
    "}"
   ]
  },
  {
   "cell_type": "code",
   "execution_count": 72,
   "metadata": {},
   "outputs": [
    {
     "name": "stderr",
     "output_type": "stream",
     "text": [
      "100%|█████████████████████████████████████████████████████████████| 1000/1000 [00:01<00:00, 694.22it/s]\n",
      "100%|█████████████████████████████████████████████████████████████| 1000/1000 [00:01<00:00, 714.71it/s]\n"
     ]
    },
    {
     "name": "stdout",
     "output_type": "stream",
     "text": [
      "Crosses stats epoch 0: Statistics(crosses=0.269, naughts=0.134, draws=0.597)\n",
      "Naughts stats epoch 0: Statistics(crosses=0.251, naughts=0.159, draws=0.59)\n"
     ]
    },
    {
     "name": "stderr",
     "output_type": "stream",
     "text": [
      "100%|█████████████████████████████████████████████████████████████| 1000/1000 [00:01<00:00, 708.59it/s]\n",
      "100%|█████████████████████████████████████████████████████████████| 1000/1000 [00:01<00:00, 716.98it/s]\n"
     ]
    },
    {
     "name": "stdout",
     "output_type": "stream",
     "text": [
      "Crosses stats epoch 10000: Statistics(crosses=0.26, naughts=0.17, draws=0.57)\n",
      "Naughts stats epoch 10000: Statistics(crosses=0.245, naughts=0.167, draws=0.588)\n"
     ]
    },
    {
     "name": "stderr",
     "output_type": "stream",
     "text": [
      "100%|█████████████████████████████████████████████████████████████| 1000/1000 [00:01<00:00, 707.34it/s]\n",
      "100%|█████████████████████████████████████████████████████████████| 1000/1000 [00:01<00:00, 700.36it/s]\n"
     ]
    },
    {
     "name": "stdout",
     "output_type": "stream",
     "text": [
      "Crosses stats epoch 20000: Statistics(crosses=0.311, naughts=0.142, draws=0.547)\n",
      "Naughts stats epoch 20000: Statistics(crosses=0.207, naughts=0.185, draws=0.608)\n"
     ]
    },
    {
     "name": "stderr",
     "output_type": "stream",
     "text": [
      "100%|█████████████████████████████████████████████████████████████| 1000/1000 [00:01<00:00, 711.96it/s]\n",
      "100%|█████████████████████████████████████████████████████████████| 1000/1000 [00:01<00:00, 708.59it/s]\n"
     ]
    },
    {
     "name": "stdout",
     "output_type": "stream",
     "text": [
      "Crosses stats epoch 30000: Statistics(crosses=0.303, naughts=0.168, draws=0.529)\n",
      "Naughts stats epoch 30000: Statistics(crosses=0.268, naughts=0.203, draws=0.529)\n"
     ]
    },
    {
     "name": "stderr",
     "output_type": "stream",
     "text": [
      "100%|█████████████████████████████████████████████████████████████| 1000/1000 [00:01<00:00, 730.47it/s]\n",
      "100%|█████████████████████████████████████████████████████████████| 1000/1000 [00:01<00:00, 704.86it/s]\n"
     ]
    },
    {
     "name": "stdout",
     "output_type": "stream",
     "text": [
      "Crosses stats epoch 40000: Statistics(crosses=0.391, naughts=0.166, draws=0.443)\n",
      "Naughts stats epoch 40000: Statistics(crosses=0.252, naughts=0.233, draws=0.515)\n"
     ]
    },
    {
     "name": "stderr",
     "output_type": "stream",
     "text": [
      "100%|█████████████████████████████████████████████████████████████| 1000/1000 [00:01<00:00, 757.81it/s]\n",
      "100%|█████████████████████████████████████████████████████████████| 1000/1000 [00:01<00:00, 702.34it/s]\n"
     ]
    },
    {
     "name": "stdout",
     "output_type": "stream",
     "text": [
      "Crosses stats epoch 50000: Statistics(crosses=0.416, naughts=0.146, draws=0.438)\n",
      "Naughts stats epoch 50000: Statistics(crosses=0.253, naughts=0.204, draws=0.543)\n"
     ]
    },
    {
     "name": "stderr",
     "output_type": "stream",
     "text": [
      "100%|█████████████████████████████████████████████████████████████| 1000/1000 [00:01<00:00, 808.04it/s]\n",
      "100%|█████████████████████████████████████████████████████████████| 1000/1000 [00:01<00:00, 702.51it/s]\n"
     ]
    },
    {
     "name": "stdout",
     "output_type": "stream",
     "text": [
      "Crosses stats epoch 60000: Statistics(crosses=0.462, naughts=0.143, draws=0.395)\n",
      "Naughts stats epoch 60000: Statistics(crosses=0.258, naughts=0.212, draws=0.53)\n"
     ]
    },
    {
     "name": "stderr",
     "output_type": "stream",
     "text": [
      "100%|█████████████████████████████████████████████████████████████| 1000/1000 [00:01<00:00, 814.76it/s]\n",
      "100%|█████████████████████████████████████████████████████████████| 1000/1000 [00:01<00:00, 710.04it/s]\n"
     ]
    },
    {
     "name": "stdout",
     "output_type": "stream",
     "text": [
      "Crosses stats epoch 70000: Statistics(crosses=0.457, naughts=0.158, draws=0.385)\n",
      "Naughts stats epoch 70000: Statistics(crosses=0.239, naughts=0.25, draws=0.511)\n"
     ]
    },
    {
     "name": "stderr",
     "output_type": "stream",
     "text": [
      "100%|█████████████████████████████████████████████████████████████| 1000/1000 [00:01<00:00, 855.15it/s]\n",
      "100%|█████████████████████████████████████████████████████████████| 1000/1000 [00:01<00:00, 718.99it/s]\n"
     ]
    },
    {
     "name": "stdout",
     "output_type": "stream",
     "text": [
      "Crosses stats epoch 80000: Statistics(crosses=0.51, naughts=0.124, draws=0.366)\n",
      "Naughts stats epoch 80000: Statistics(crosses=0.252, naughts=0.239, draws=0.509)\n"
     ]
    },
    {
     "name": "stderr",
     "output_type": "stream",
     "text": [
      "100%|█████████████████████████████████████████████████████████████| 1000/1000 [00:01<00:00, 899.17it/s]\n",
      "100%|█████████████████████████████████████████████████████████████| 1000/1000 [00:01<00:00, 723.72it/s]"
     ]
    },
    {
     "name": "stdout",
     "output_type": "stream",
     "text": [
      "Crosses stats epoch 90000: Statistics(crosses=0.563, naughts=0.106, draws=0.331)\n",
      "Naughts stats epoch 90000: Statistics(crosses=0.228, naughts=0.28, draws=0.492)\n"
     ]
    },
    {
     "name": "stderr",
     "output_type": "stream",
     "text": [
      "\n"
     ]
    }
   ],
   "source": [
    "history = q_learning(\n",
    "    env_5,\n",
    "    policies=POLICIES_5,\n",
    "    n_episodes=100000,\n",
    "    alpha=0.4,\n",
    "    gamma=0.9,\n",
    "    eps_decay=30000,\n",
    "    eps=0.5,\n",
    "    inference_epochs=1000,\n",
    "    inference_every=10000\n",
    ")"
   ]
  },
  {
   "cell_type": "code",
   "execution_count": 80,
   "metadata": {},
   "outputs": [
    {
     "data": {
      "image/png": "[encoded data removed]",
      "text/plain": [
       "<Figure size 864x576 with 1 Axes>"
      ]
     },
     "metadata": {
      "needs_background": "light"
     },
     "output_type": "display_data"
    }
   ],
   "source": [
    "plot_history(history)"
   ]
  },
  {
   "cell_type": "markdown",
   "metadata": {},
   "source": [
    "**Вывод:** обучение продолжает идти, результаты, конечно, хуже, чем на маленькой доске, но можно обучать и дольше."
   ]
  },
  {
   "cell_type": "markdown",
   "metadata": {},
   "source": [
    "# Часть вторая: добавим нейронных сетей\n",
    "Реализуйте нейронную сеть для метода DQN на доске для крестиков-ноликов. Не буду ограничивать фантазию, но кажется, что свёртки 3х3 здесь должны неплохо работать (в том числе обобщаться на доски размера побольше). </br>\n",
    "3. Реализуйте DQN с нейронной сетью, обучите стратегии крестиков и ноликов. Замечание: скорее всего, experience replay потребуется сразу же. </br>\n",
    "4. Реализуйте Double DQN и/или Dueling DQN.\n"
   ]
  },
  {
   "cell_type": "markdown",
   "metadata": {},
   "source": [
    "**IMPORTANT:** Воспользуемся наработками по DQN из [ДЗ другого курса по RL в MADE](https://github.com/photosartd/MADE-2022-Practical-RL/blob/hw1/hw01_lunar_lander/LunarLander.ipynb) (Прикладное обучение с подкрелением), изменив функцию Q."
   ]
  },
  {
   "cell_type": "markdown",
   "metadata": {},
   "source": [
    "## 3"
   ]
  },
  {
   "cell_type": "code",
   "execution_count": 71,
   "metadata": {},
   "outputs": [],
   "source": [
    "import torch\n",
    "import torch.nn as nn\n",
    "from torch.nn import functional as F\n",
    "from torch.optim import Adam\n",
    "from collections import deque, namedtuple\n",
    "import random\n",
    "import copy\n",
    "\n",
    "GAMMA = 0.8\n",
    "INITIAL_STEPS = 1024\n",
    "TRANSITIONS = 500000\n",
    "STEPS_PER_UPDATE = 4\n",
    "STEPS_PER_TARGET_UPDATE = STEPS_PER_UPDATE * 30\n",
    "BATCH_SIZE = 1024\n",
    "LEARNING_RATE = 1e-4\n",
    "WEIGHT_DECAY = 5e-4\n",
    "BUFFER_SIZE = 30000\n",
    "SEED = 42\n",
    "RANDOM_POLICIES = {\n",
    "    CROSSES: RandomPolicy(),\n",
    "    NAUGHTS: RandomPolicy()\n",
    "}\n",
    "device = torch.device(\"cuda\" if torch.cuda.is_available() else \"cpu\")"
   ]
  },
  {
   "cell_type": "code",
   "execution_count": 40,
   "metadata": {},
   "outputs": [],
   "source": [
    "class NeuralPolicy(Policy, ABC):\n",
    "    def __init__(self, eps=0.1):\n",
    "        self.eps = eps\n",
    "        self.buffer = ReplayBuffer(BUFFER_SIZE)\n",
    "        \n",
    "    def decrease_eps(self, new_eps):\n",
    "        self.eps = new_eps\n",
    "        \n",
    "    def consume_transition(self, transition):\n",
    "        self.buffer.add(transition)\n",
    "        \n",
    "    def sample_batch(self, batch_size=BATCH_SIZE):\n",
    "        return self.buffer.sample(batch_size=batch_size)\n",
    "    \n",
    "    @staticmethod\n",
    "    def board_to_tensor(board):\n",
    "        crosses = torch.FloatTensor(board == 1)\n",
    "        noughts = torch.FloatTensor(board == -1)\n",
    "        empty_spaces = torch.FloatTensor(board == 0)\n",
    "        return torch.stack((crosses, noughts, empty_spaces))\n",
    "    \n",
    "    @abstractmethod\n",
    "    def train_step(self, batch, **kwargs):\n",
    "        raise NotImplementedError()"
   ]
  },
  {
   "cell_type": "code",
   "execution_count": 41,
   "metadata": {},
   "outputs": [],
   "source": [
    "class ReplayBuffer:\n",
    "    def __init__(self, maxlen=10000, seed=SEED):\n",
    "        \n",
    "        self.buffer = deque(maxlen=maxlen)\n",
    "        self.Transition = namedtuple(\"Transition\", field_names=[\"state\", \"action\", \"next_state\", \"reward\", \"done\"])\n",
    "        self.seed = random.seed(seed)\n",
    "        \n",
    "    def add(self, transition):\n",
    "        transition = self.Transition(*transition)\n",
    "        self.buffer.append(transition)\n",
    "        \n",
    "    def sample(self, batch_size=512):\n",
    "        transitions = random.sample(self.buffer, k=batch_size)\n",
    "        \n",
    "        #size of all: [batch_size, 1]\n",
    "        states = torch.stack([NeuralPolicy.board_to_tensor(t.state) for t in transitions if t is not None]).float().to(device)\n",
    "        actions = torch.from_numpy(np.vstack([t.action for t in transitions if t is not None])).long().to(device)\n",
    "        next_states = torch.stack([NeuralPolicy.board_to_tensor(t.next_state) for t in transitions if t is not None]).float().to(device)\n",
    "        rewards = torch.from_numpy(np.vstack([t.reward for t in transitions if t is not None])).float().to(device)\n",
    "        dones = torch.from_numpy(np.vstack([t.done for t in transitions if t is not None]).astype(np.uint8)).float().to(device)\n",
    "  \n",
    "        return (states, actions, next_states, rewards, dones)\n",
    "    \n",
    "    def __len__(self):\n",
    "        return len(self.buffer)"
   ]
  },
  {
   "cell_type": "code",
   "execution_count": 42,
   "metadata": {},
   "outputs": [],
   "source": [
    "class QModel(nn.Module):\n",
    "    def __init__(self, observation_space, action_space,\n",
    "                 in_channels=3,\n",
    "                 out_channels=16,\n",
    "                 kernel_size=(3, 3),\n",
    "                 seed=42):\n",
    "        super(QModel, self).__init__()\n",
    "        \n",
    "        self.seed = torch.manual_seed(seed)\n",
    "        self.observation_space = observation_space\n",
    "        self.action_space = action_space\n",
    "        \n",
    "        self.conv1 = nn.Conv2d(\n",
    "            in_channels=3,\n",
    "            out_channels=out_channels,\n",
    "            kernel_size=kernel_size,\n",
    "            padding=1\n",
    "        )\n",
    "        self.conv2 = nn.Conv2d(\n",
    "            in_channels=out_channels,\n",
    "            out_channels=out_channels,\n",
    "            kernel_size=kernel_size,\n",
    "            padding=1\n",
    "        )\n",
    "        \n",
    "        self.linear1 = nn.Linear(out_channels * action_space, action_space)\n",
    "        \n",
    "    def forward(self, state):\n",
    "        res = F.relu(self.conv1(state))\n",
    "        res = F.relu(self.conv2(res))\n",
    "        res = torch.flatten(res, start_dim=1)\n",
    "        res = self.linear1(res)\n",
    "        return res"
   ]
  },
  {
   "cell_type": "code",
   "execution_count": 43,
   "metadata": {},
   "outputs": [],
   "source": [
    "class DQNPolicy(NeuralPolicy):\n",
    "    def __init__(self, N: int, model: nn.Module, eps=0.1):\n",
    "        super(DQNPolicy, self).__init__(eps)\n",
    "        self.observation_space = N\n",
    "        self.action_space = N**2\n",
    "        self.model = model(\n",
    "            observation_space=self.observation_space,\n",
    "            action_space=self.action_space\n",
    "        ).to(device)\n",
    "        self.optimizer = Adam(self.model.parameters(), lr=LEARNING_RATE, weight_decay=WEIGHT_DECAY)\n",
    "        \n",
    "    def get_action(self, observation, **kwargs):\n",
    "        observation_board = kwargs.get(\"observation_board\")\n",
    "        if np.random.random() < self.eps:\n",
    "            return np.random.randint(self.action_space)\n",
    "        else:\n",
    "            board = self.board_to_tensor(observation_board).unsqueeze(0).to(device)\n",
    "            self.model.eval()\n",
    "            with torch.no_grad():\n",
    "                action = np.argmax(self.model(board).cpu().data.numpy())\n",
    "            self.model.train()\n",
    "            return action\n",
    "    \n",
    "    def train_step(self, batch, **kwargs):\n",
    "        states, actions, next_states, rewards, dones = batch\n",
    "        \n",
    "        q = self.model(states).gather(1, actions).reshape([BATCH_SIZE])\n",
    "        q_next = self.model(next_states).max(1)[0].detach()\n",
    "        goal = GAMMA * q_next + rewards.reshape([BATCH_SIZE])\n",
    "        \n",
    "        self.optimizer.zero_grad()\n",
    "        loss = nn.SmoothL1Loss()(q, goal)\n",
    "        loss.backward()\n",
    "        #clip gradients for stability\n",
    "        for param in self.model.parameters():\n",
    "            param.grad.data.clamp_(-1, 1)\n",
    "        self.optimizer.step()"
   ]
  },
  {
   "cell_type": "code",
   "execution_count": 44,
   "metadata": {},
   "outputs": [],
   "source": [
    "def dqn_step(env, policies: Dict,\n",
    "             step: int,\n",
    "             eps=0.5, eps_last=0.01, eps_decay=9000\n",
    "            ):\n",
    "    last_states = {\n",
    "        CROSSES: LastState(None, None),\n",
    "        NAUGHTS: LastState(None, None)\n",
    "    }\n",
    "    env.reset()\n",
    "    all_actions = env.getEmptySpaces()\n",
    "    observation = env.getState()\n",
    "    board, current_action_space, cur_player = observation\n",
    "    done = False\n",
    "    \n",
    "    while not done:\n",
    "        current_eps = eps + (eps_last - eps) * step / eps_decay\n",
    "        [policy.decrease_eps(current_eps) for policy in policies.values()]\n",
    "        step += 1\n",
    "        board_matrix = env.board.copy()\n",
    "        action: int = policies[cur_player].get_action(observation, observation_board=board_matrix)\n",
    "        last_states[cur_player] = LastState(board_matrix, action)\n",
    "        observation, reward, done, info = env.step(all_actions[action])\n",
    "        next_board, _, cur_player = observation\n",
    "        board = next_board\n",
    "        next_board_matrix = env.board.copy()\n",
    "        \n",
    "        if reward == -10:\n",
    "            policies[cur_player].consume_transition((board_matrix, action, next_board_matrix, reward, done))\n",
    "        else:\n",
    "            if last_states[cur_player].s is not None:\n",
    "                if reward == -cur_player:\n",
    "                    policies[-cur_player].consume_transition(\n",
    "                        (last_states[-cur_player].s, last_states[-cur_player].a, next_board_matrix,\n",
    "                         1, done\n",
    "                        )\n",
    "                    )\n",
    "                policies[cur_player].consume_transition(\n",
    "                    (last_states[cur_player].s, last_states[cur_player].a, next_board_matrix,\n",
    "                     reward * cur_player, done\n",
    "                    )\n",
    "                )\n",
    "        if len(policies[cur_player].buffer) >= BATCH_SIZE:\n",
    "            batch = policies[cur_player].sample_batch(BATCH_SIZE)\n",
    "            policies[cur_player].train_step(batch, step=step)\n",
    "    return step"
   ]
  },
  {
   "cell_type": "code",
   "execution_count": 45,
   "metadata": {},
   "outputs": [],
   "source": [
    "def train(env, policies,\n",
    "          n_epochs=10000,\n",
    "          eps_decay=9000,\n",
    "          eps=0.9,\n",
    "          eps_last=0.01,\n",
    "          inference_every=1000,\n",
    "          inference_epochs=1000\n",
    "         ):\n",
    "    history: Dict[List[Statistics]] = {\n",
    "        CROSSES: [],\n",
    "        NAUGHTS: []\n",
    "    }\n",
    "    epoch = 0\n",
    "    last_epoch = 0\n",
    "    while epoch < n_epochs:\n",
    "        epoch = dqn_step(env, policies, step=epoch,\n",
    "                        eps=eps, eps_last=eps_last, eps_decay=eps_decay)\n",
    "        \n",
    "        if epoch - last_epoch >= inference_every:\n",
    "            last_epoch = epoch\n",
    "            history[CROSSES].append(inference(env, {CROSSES: policies[CROSSES], NAUGHTS: RandomPolicy()}, \n",
    "                                              num_experiments=inference_epochs))\n",
    "            history[NAUGHTS].append(inference(env, {CROSSES: RandomPolicy(), NAUGHTS: policies[NAUGHTS]},\n",
    "                                             num_experiments=inference_epochs))\n",
    "            print(f\"Crosses stats epoch {epoch}: {history[CROSSES][-1]}\")\n",
    "            print(f\"Naughts stats epoch {epoch}: {history[NAUGHTS][-1]}\")\n",
    "    return history"
   ]
  },
  {
   "cell_type": "code",
   "execution_count": 25,
   "metadata": {},
   "outputs": [],
   "source": [
    "POLICIES_DQN = {\n",
    "    CROSSES: DQNPolicy(3, QModel),\n",
    "    NAUGHTS: DQNPolicy(3, QModel)\n",
    "}"
   ]
  },
  {
   "cell_type": "code",
   "execution_count": 40,
   "metadata": {},
   "outputs": [
    {
     "name": "stderr",
     "output_type": "stream",
     "text": [
      "100%|██████████████████████████████████████████████████████████████| 500/500 [00:00<00:00, 3959.36it/s]\n",
      "100%|██████████████████████████████████████████████████████████████| 500/500 [00:00<00:00, 4066.53it/s]\n"
     ]
    },
    {
     "name": "stdout",
     "output_type": "stream",
     "text": [
      "Crosses stats epoch 1004: Statistics(crosses=0.086, naughts=0.062, draws=0.0, minus_10=0.852)\n",
      "Naughts stats epoch 1004: Statistics(crosses=0.14, naughts=0.026, draws=0.008, minus_10=0.826)\n"
     ]
    },
    {
     "name": "stderr",
     "output_type": "stream",
     "text": [
      "100%|██████████████████████████████████████████████████████████████| 500/500 [00:00<00:00, 3388.98it/s]\n",
      "100%|██████████████████████████████████████████████████████████████| 500/500 [00:00<00:00, 3378.45it/s]\n"
     ]
    },
    {
     "name": "stdout",
     "output_type": "stream",
     "text": [
      "Crosses stats epoch 2010: Statistics(crosses=0.118, naughts=0.076, draws=0.0, minus_10=0.806)\n",
      "Naughts stats epoch 2010: Statistics(crosses=0.168, naughts=0.03, draws=0.016, minus_10=0.786)\n"
     ]
    },
    {
     "name": "stderr",
     "output_type": "stream",
     "text": [
      "100%|██████████████████████████████████████████████████████████████| 500/500 [00:00<00:00, 2718.97it/s]\n",
      "100%|██████████████████████████████████████████████████████████████| 500/500 [00:00<00:00, 3104.18it/s]\n"
     ]
    },
    {
     "name": "stdout",
     "output_type": "stream",
     "text": [
      "Crosses stats epoch 3010: Statistics(crosses=0.152, naughts=0.068, draws=0.004, minus_10=0.776)\n",
      "Naughts stats epoch 3010: Statistics(crosses=0.168, naughts=0.032, draws=0.008, minus_10=0.792)\n"
     ]
    },
    {
     "name": "stderr",
     "output_type": "stream",
     "text": [
      "100%|██████████████████████████████████████████████████████████████| 500/500 [00:00<00:00, 2433.68it/s]\n",
      "100%|██████████████████████████████████████████████████████████████| 500/500 [00:00<00:00, 2610.98it/s]\n"
     ]
    },
    {
     "name": "stdout",
     "output_type": "stream",
     "text": [
      "Crosses stats epoch 4015: Statistics(crosses=0.178, naughts=0.096, draws=0.002, minus_10=0.724)\n",
      "Naughts stats epoch 4015: Statistics(crosses=0.216, naughts=0.078, draws=0.02, minus_10=0.686)\n"
     ]
    },
    {
     "name": "stderr",
     "output_type": "stream",
     "text": [
      "100%|██████████████████████████████████████████████████████████████| 500/500 [00:00<00:00, 2052.26it/s]\n",
      "100%|██████████████████████████████████████████████████████████████| 500/500 [00:00<00:00, 2396.51it/s]\n"
     ]
    },
    {
     "name": "stdout",
     "output_type": "stream",
     "text": [
      "Crosses stats epoch 5015: Statistics(crosses=0.218, naughts=0.114, draws=0.01, minus_10=0.658)\n",
      "Naughts stats epoch 5015: Statistics(crosses=0.238, naughts=0.11, draws=0.032, minus_10=0.62)\n"
     ]
    },
    {
     "name": "stderr",
     "output_type": "stream",
     "text": [
      "100%|██████████████████████████████████████████████████████████████| 500/500 [00:00<00:00, 1793.39it/s]\n",
      "100%|██████████████████████████████████████████████████████████████| 500/500 [00:00<00:00, 2200.10it/s]\n"
     ]
    },
    {
     "name": "stdout",
     "output_type": "stream",
     "text": [
      "Crosses stats epoch 6016: Statistics(crosses=0.306, naughts=0.166, draws=0.04, minus_10=0.488)\n",
      "Naughts stats epoch 6016: Statistics(crosses=0.32, naughts=0.122, draws=0.042, minus_10=0.516)\n"
     ]
    },
    {
     "name": "stderr",
     "output_type": "stream",
     "text": [
      "100%|██████████████████████████████████████████████████████████████| 500/500 [00:00<00:00, 1649.58it/s]\n",
      "100%|██████████████████████████████████████████████████████████████| 500/500 [00:00<00:00, 1896.38it/s]\n"
     ]
    },
    {
     "name": "stdout",
     "output_type": "stream",
     "text": [
      "Crosses stats epoch 7018: Statistics(crosses=0.4, naughts=0.148, draws=0.032, minus_10=0.42)\n",
      "Naughts stats epoch 7018: Statistics(crosses=0.358, naughts=0.184, draws=0.05, minus_10=0.408)\n"
     ]
    },
    {
     "name": "stderr",
     "output_type": "stream",
     "text": [
      "100%|██████████████████████████████████████████████████████████████| 500/500 [00:00<00:00, 1366.72it/s]\n",
      "100%|██████████████████████████████████████████████████████████████| 500/500 [00:00<00:00, 1734.56it/s]\n"
     ]
    },
    {
     "name": "stdout",
     "output_type": "stream",
     "text": [
      "Crosses stats epoch 8021: Statistics(crosses=0.418, naughts=0.184, draws=0.048, minus_10=0.35)\n",
      "Naughts stats epoch 8021: Statistics(crosses=0.418, naughts=0.168, draws=0.062, minus_10=0.352)\n"
     ]
    },
    {
     "name": "stderr",
     "output_type": "stream",
     "text": [
      "100%|██████████████████████████████████████████████████████████████| 500/500 [00:00<00:00, 1457.95it/s]\n",
      "100%|██████████████████████████████████████████████████████████████| 500/500 [00:00<00:00, 1532.57it/s]\n"
     ]
    },
    {
     "name": "stdout",
     "output_type": "stream",
     "text": [
      "Crosses stats epoch 9024: Statistics(crosses=0.45, naughts=0.176, draws=0.056, minus_10=0.318)\n",
      "Naughts stats epoch 9024: Statistics(crosses=0.4, naughts=0.272, draws=0.066, minus_10=0.262)\n"
     ]
    },
    {
     "name": "stderr",
     "output_type": "stream",
     "text": [
      "100%|██████████████████████████████████████████████████████████████| 500/500 [00:00<00:00, 1306.48it/s]\n",
      "100%|██████████████████████████████████████████████████████████████| 500/500 [00:00<00:00, 1468.70it/s]\n"
     ]
    },
    {
     "name": "stdout",
     "output_type": "stream",
     "text": [
      "Crosses stats epoch 10027: Statistics(crosses=0.484, naughts=0.228, draws=0.082, minus_10=0.206)\n",
      "Naughts stats epoch 10027: Statistics(crosses=0.41, naughts=0.35, draws=0.044, minus_10=0.196)\n"
     ]
    },
    {
     "name": "stderr",
     "output_type": "stream",
     "text": [
      "100%|██████████████████████████████████████████████████████████████| 500/500 [00:00<00:00, 1296.61it/s]\n",
      "100%|██████████████████████████████████████████████████████████████| 500/500 [00:00<00:00, 1364.49it/s]\n"
     ]
    },
    {
     "name": "stdout",
     "output_type": "stream",
     "text": [
      "Crosses stats epoch 11030: Statistics(crosses=0.602, naughts=0.216, draws=0.066, minus_10=0.116)\n",
      "Naughts stats epoch 11030: Statistics(crosses=0.446, naughts=0.374, draws=0.06, minus_10=0.12)\n"
     ]
    },
    {
     "name": "stderr",
     "output_type": "stream",
     "text": [
      "100%|██████████████████████████████████████████████████████████████| 500/500 [00:00<00:00, 1304.21it/s]\n",
      "100%|██████████████████████████████████████████████████████████████| 500/500 [00:00<00:00, 1315.79it/s]\n"
     ]
    },
    {
     "name": "stdout",
     "output_type": "stream",
     "text": [
      "Crosses stats epoch 12033: Statistics(crosses=0.826, naughts=0.106, draws=0.062, minus_10=0.006)\n",
      "Naughts stats epoch 12033: Statistics(crosses=0.448, naughts=0.482, draws=0.054, minus_10=0.016)\n"
     ]
    },
    {
     "name": "stderr",
     "output_type": "stream",
     "text": [
      "100%|██████████████████████████████████████████████████████████████| 500/500 [00:00<00:00, 1153.87it/s]\n",
      "100%|██████████████████████████████████████████████████████████████| 500/500 [00:00<00:00, 1293.98it/s]\n"
     ]
    },
    {
     "name": "stdout",
     "output_type": "stream",
     "text": [
      "Crosses stats epoch 13034: Statistics(crosses=0.734, naughts=0.216, draws=0.05, minus_10=0.0)\n",
      "Naughts stats epoch 13034: Statistics(crosses=0.418, naughts=0.528, draws=0.054, minus_10=0.0)\n"
     ]
    },
    {
     "name": "stderr",
     "output_type": "stream",
     "text": [
      "100%|██████████████████████████████████████████████████████████████| 500/500 [00:00<00:00, 1079.60it/s]\n",
      "100%|██████████████████████████████████████████████████████████████| 500/500 [00:00<00:00, 1273.44it/s]\n"
     ]
    },
    {
     "name": "stdout",
     "output_type": "stream",
     "text": [
      "Crosses stats epoch 14035: Statistics(crosses=0.71, naughts=0.182, draws=0.108, minus_10=0.0)\n",
      "Naughts stats epoch 14035: Statistics(crosses=0.506, naughts=0.46, draws=0.034, minus_10=0.0)\n"
     ]
    },
    {
     "name": "stderr",
     "output_type": "stream",
     "text": [
      "100%|██████████████████████████████████████████████████████████████| 500/500 [00:00<00:00, 1114.27it/s]\n",
      "100%|██████████████████████████████████████████████████████████████| 500/500 [00:00<00:00, 1337.00it/s]\n"
     ]
    },
    {
     "name": "stdout",
     "output_type": "stream",
     "text": [
      "Crosses stats epoch 15039: Statistics(crosses=0.686, naughts=0.22, draws=0.094, minus_10=0.0)\n",
      "Naughts stats epoch 15039: Statistics(crosses=0.454, naughts=0.536, draws=0.01, minus_10=0.0)\n"
     ]
    },
    {
     "name": "stderr",
     "output_type": "stream",
     "text": [
      "100%|██████████████████████████████████████████████████████████████| 500/500 [00:00<00:00, 1258.05it/s]\n",
      "100%|██████████████████████████████████████████████████████████████| 500/500 [00:00<00:00, 1349.32it/s]\n"
     ]
    },
    {
     "name": "stdout",
     "output_type": "stream",
     "text": [
      "Crosses stats epoch 16043: Statistics(crosses=0.814, naughts=0.098, draws=0.088, minus_10=0.0)\n",
      "Naughts stats epoch 16043: Statistics(crosses=0.432, naughts=0.568, draws=0.0, minus_10=0.0)\n"
     ]
    },
    {
     "name": "stderr",
     "output_type": "stream",
     "text": [
      "100%|██████████████████████████████████████████████████████████████| 500/500 [00:00<00:00, 1217.22it/s]\n",
      "100%|██████████████████████████████████████████████████████████████| 500/500 [00:00<00:00, 1328.78it/s]\n"
     ]
    },
    {
     "name": "stdout",
     "output_type": "stream",
     "text": [
      "Crosses stats epoch 17045: Statistics(crosses=0.802, naughts=0.138, draws=0.06, minus_10=0.0)\n",
      "Naughts stats epoch 17045: Statistics(crosses=0.504, naughts=0.482, draws=0.014, minus_10=0.0)\n"
     ]
    },
    {
     "name": "stderr",
     "output_type": "stream",
     "text": [
      "100%|██████████████████████████████████████████████████████████████| 500/500 [00:00<00:00, 1109.48it/s]\n",
      "100%|██████████████████████████████████████████████████████████████| 500/500 [00:00<00:00, 1337.85it/s]\n"
     ]
    },
    {
     "name": "stdout",
     "output_type": "stream",
     "text": [
      "Crosses stats epoch 18048: Statistics(crosses=0.736, naughts=0.178, draws=0.086, minus_10=0.0)\n",
      "Naughts stats epoch 18048: Statistics(crosses=0.45, naughts=0.546, draws=0.004, minus_10=0.0)\n"
     ]
    },
    {
     "name": "stderr",
     "output_type": "stream",
     "text": [
      "100%|██████████████████████████████████████████████████████████████| 500/500 [00:00<00:00, 1290.37it/s]\n",
      "100%|██████████████████████████████████████████████████████████████| 500/500 [00:00<00:00, 1293.71it/s]\n"
     ]
    },
    {
     "name": "stdout",
     "output_type": "stream",
     "text": [
      "Crosses stats epoch 19049: Statistics(crosses=0.836, naughts=0.104, draws=0.06, minus_10=0.0)\n",
      "Naughts stats epoch 19049: Statistics(crosses=0.476, naughts=0.51, draws=0.014, minus_10=0.0)\n"
     ]
    }
   ],
   "source": [
    "history = train(env_3, POLICIES_DQN, n_epochs=20000, eps_decay=12000, eps=0.9, inference_every=1000,\n",
    "                inference_epochs=500\n",
    "     )"
   ]
  },
  {
   "cell_type": "code",
   "execution_count": 49,
   "metadata": {},
   "outputs": [
    {
     "data": {
      "image/png": "[encoded data removed]",
      "text/plain": [
       "<Figure size 864x576 with 1 Axes>"
      ]
     },
     "metadata": {
      "needs_background": "light"
     },
     "output_type": "display_data"
    }
   ],
   "source": [
    "plot_history(history)"
   ]
  },
  {
   "cell_type": "code",
   "execution_count": 38,
   "metadata": {},
   "outputs": [],
   "source": [
    "POLICIES_DQN_5 = {\n",
    "    CROSSES: DQNPolicy(5, QModel),\n",
    "    NAUGHTS: DQNPolicy(5, QModel)\n",
    "}"
   ]
  },
  {
   "cell_type": "code",
   "execution_count": 39,
   "metadata": {},
   "outputs": [
    {
     "name": "stderr",
     "output_type": "stream",
     "text": [
      "[W NNPACK.cpp:51] Could not initialize NNPACK! Reason: Unsupported hardware.\n",
      "100%|██████████████████████████████████████████████████████████████| 500/500 [00:00<00:00, 1596.52it/s]\n",
      "100%|██████████████████████████████████████████████████████████████| 500/500 [00:00<00:00, 1784.43it/s]\n"
     ]
    },
    {
     "name": "stdout",
     "output_type": "stream",
     "text": [
      "Crosses stats epoch 1007: Statistics(crosses=0.004, naughts=0.0, draws=0.0, minus_10=0.996)\n",
      "Naughts stats epoch 1007: Statistics(crosses=0.002, naughts=0.002, draws=0.0, minus_10=0.996)\n"
     ]
    },
    {
     "name": "stderr",
     "output_type": "stream",
     "text": [
      "100%|██████████████████████████████████████████████████████████████| 500/500 [00:00<00:00, 1331.31it/s]\n",
      "100%|██████████████████████████████████████████████████████████████| 500/500 [00:00<00:00, 1469.64it/s]\n"
     ]
    },
    {
     "name": "stdout",
     "output_type": "stream",
     "text": [
      "Crosses stats epoch 2009: Statistics(crosses=0.0, naughts=0.006, draws=0.0, minus_10=0.994)\n",
      "Naughts stats epoch 2009: Statistics(crosses=0.008, naughts=0.0, draws=0.0, minus_10=0.992)\n"
     ]
    },
    {
     "name": "stderr",
     "output_type": "stream",
     "text": [
      "100%|██████████████████████████████████████████████████████████████| 500/500 [00:00<00:00, 1206.21it/s]\n",
      "100%|██████████████████████████████████████████████████████████████| 500/500 [00:00<00:00, 1104.85it/s]\n"
     ]
    },
    {
     "name": "stdout",
     "output_type": "stream",
     "text": [
      "Crosses stats epoch 3015: Statistics(crosses=0.004, naughts=0.008, draws=0.0, minus_10=0.988)\n",
      "Naughts stats epoch 3015: Statistics(crosses=0.004, naughts=0.004, draws=0.0, minus_10=0.992)\n"
     ]
    },
    {
     "name": "stderr",
     "output_type": "stream",
     "text": [
      "100%|███████████████████████████████████████████████████████████████| 500/500 [00:00<00:00, 971.92it/s]\n",
      "100%|██████████████████████████████████████████████████████████████| 500/500 [00:00<00:00, 1035.08it/s]\n"
     ]
    },
    {
     "name": "stdout",
     "output_type": "stream",
     "text": [
      "Crosses stats epoch 4019: Statistics(crosses=0.004, naughts=0.014, draws=0.0, minus_10=0.982)\n",
      "Naughts stats epoch 4019: Statistics(crosses=0.014, naughts=0.0, draws=0.004, minus_10=0.982)\n"
     ]
    },
    {
     "name": "stderr",
     "output_type": "stream",
     "text": [
      "100%|███████████████████████████████████████████████████████████████| 500/500 [00:00<00:00, 840.14it/s]\n",
      "100%|███████████████████████████████████████████████████████████████| 500/500 [00:00<00:00, 881.80it/s]\n"
     ]
    },
    {
     "name": "stdout",
     "output_type": "stream",
     "text": [
      "Crosses stats epoch 5023: Statistics(crosses=0.014, naughts=0.016, draws=0.004, minus_10=0.966)\n",
      "Naughts stats epoch 5023: Statistics(crosses=0.01, naughts=0.01, draws=0.018, minus_10=0.962)\n"
     ]
    },
    {
     "name": "stderr",
     "output_type": "stream",
     "text": [
      "100%|███████████████████████████████████████████████████████████████| 500/500 [00:00<00:00, 778.86it/s]\n",
      "100%|███████████████████████████████████████████████████████████████| 500/500 [00:00<00:00, 750.27it/s]\n"
     ]
    },
    {
     "name": "stdout",
     "output_type": "stream",
     "text": [
      "Crosses stats epoch 6027: Statistics(crosses=0.022, naughts=0.026, draws=0.012, minus_10=0.94)\n",
      "Naughts stats epoch 6027: Statistics(crosses=0.024, naughts=0.014, draws=0.034, minus_10=0.928)\n"
     ]
    },
    {
     "name": "stderr",
     "output_type": "stream",
     "text": [
      "100%|███████████████████████████████████████████████████████████████| 500/500 [00:00<00:00, 634.42it/s]\n",
      "100%|███████████████████████████████████████████████████████████████| 500/500 [00:00<00:00, 681.11it/s]\n"
     ]
    },
    {
     "name": "stdout",
     "output_type": "stream",
     "text": [
      "Crosses stats epoch 7030: Statistics(crosses=0.038, naughts=0.024, draws=0.04, minus_10=0.898)\n",
      "Naughts stats epoch 7030: Statistics(crosses=0.04, naughts=0.014, draws=0.052, minus_10=0.894)\n"
     ]
    },
    {
     "name": "stderr",
     "output_type": "stream",
     "text": [
      "100%|███████████████████████████████████████████████████████████████| 500/500 [00:00<00:00, 548.08it/s]\n",
      "100%|███████████████████████████████████████████████████████████████| 500/500 [00:00<00:00, 571.35it/s]\n"
     ]
    },
    {
     "name": "stdout",
     "output_type": "stream",
     "text": [
      "Crosses stats epoch 8034: Statistics(crosses=0.064, naughts=0.04, draws=0.084, minus_10=0.812)\n",
      "Naughts stats epoch 8034: Statistics(crosses=0.064, naughts=0.03, draws=0.096, minus_10=0.81)\n"
     ]
    },
    {
     "name": "stderr",
     "output_type": "stream",
     "text": [
      "100%|███████████████████████████████████████████████████████████████| 500/500 [00:01<00:00, 465.72it/s]\n",
      "100%|███████████████████████████████████████████████████████████████| 500/500 [00:00<00:00, 501.97it/s]\n"
     ]
    },
    {
     "name": "stdout",
     "output_type": "stream",
     "text": [
      "Crosses stats epoch 9051: Statistics(crosses=0.078, naughts=0.082, draws=0.144, minus_10=0.696)\n",
      "Naughts stats epoch 9051: Statistics(crosses=0.08, naughts=0.042, draws=0.156, minus_10=0.722)\n"
     ]
    },
    {
     "name": "stderr",
     "output_type": "stream",
     "text": [
      "100%|███████████████████████████████████████████████████████████████| 500/500 [00:01<00:00, 428.42it/s]\n",
      "100%|███████████████████████████████████████████████████████████████| 500/500 [00:01<00:00, 426.04it/s]\n"
     ]
    },
    {
     "name": "stdout",
     "output_type": "stream",
     "text": [
      "Crosses stats epoch 10053: Statistics(crosses=0.214, naughts=0.076, draws=0.186, minus_10=0.524)\n",
      "Naughts stats epoch 10053: Statistics(crosses=0.116, naughts=0.07, draws=0.224, minus_10=0.59)\n"
     ]
    },
    {
     "name": "stderr",
     "output_type": "stream",
     "text": [
      "100%|███████████████████████████████████████████████████████████████| 500/500 [00:01<00:00, 377.82it/s]\n",
      "100%|███████████████████████████████████████████████████████████████| 500/500 [00:01<00:00, 348.27it/s]\n"
     ]
    },
    {
     "name": "stdout",
     "output_type": "stream",
     "text": [
      "Crosses stats epoch 11058: Statistics(crosses=0.31, naughts=0.068, draws=0.29, minus_10=0.332)\n",
      "Naughts stats epoch 11058: Statistics(crosses=0.154, naughts=0.11, draws=0.426, minus_10=0.31)\n"
     ]
    },
    {
     "name": "stderr",
     "output_type": "stream",
     "text": [
      "100%|███████████████████████████████████████████████████████████████| 500/500 [00:01<00:00, 337.74it/s]\n",
      "100%|███████████████████████████████████████████████████████████████| 500/500 [00:01<00:00, 307.40it/s]\n"
     ]
    },
    {
     "name": "stdout",
     "output_type": "stream",
     "text": [
      "Crosses stats epoch 12073: Statistics(crosses=0.462, naughts=0.13, draws=0.392, minus_10=0.016)\n",
      "Naughts stats epoch 12073: Statistics(crosses=0.166, naughts=0.14, draws=0.682, minus_10=0.012)\n"
     ]
    },
    {
     "name": "stderr",
     "output_type": "stream",
     "text": [
      "100%|███████████████████████████████████████████████████████████████| 500/500 [00:01<00:00, 420.54it/s]\n",
      "100%|███████████████████████████████████████████████████████████████| 500/500 [00:01<00:00, 318.95it/s]\n"
     ]
    },
    {
     "name": "stdout",
     "output_type": "stream",
     "text": [
      "Crosses stats epoch 13076: Statistics(crosses=0.606, naughts=0.072, draws=0.322, minus_10=0.0)\n",
      "Naughts stats epoch 13076: Statistics(crosses=0.296, naughts=0.204, draws=0.5, minus_10=0.0)\n"
     ]
    },
    {
     "name": "stderr",
     "output_type": "stream",
     "text": [
      "100%|███████████████████████████████████████████████████████████████| 500/500 [00:01<00:00, 428.42it/s]\n",
      "100%|███████████████████████████████████████████████████████████████| 500/500 [00:01<00:00, 309.15it/s]\n"
     ]
    },
    {
     "name": "stdout",
     "output_type": "stream",
     "text": [
      "Crosses stats epoch 14084: Statistics(crosses=0.618, naughts=0.104, draws=0.278, minus_10=0.0)\n",
      "Naughts stats epoch 14084: Statistics(crosses=0.234, naughts=0.232, draws=0.534, minus_10=0.0)\n"
     ]
    },
    {
     "name": "stderr",
     "output_type": "stream",
     "text": [
      "100%|███████████████████████████████████████████████████████████████| 500/500 [00:00<00:00, 503.24it/s]\n",
      "100%|███████████████████████████████████████████████████████████████| 500/500 [00:01<00:00, 306.77it/s]\n"
     ]
    },
    {
     "name": "stdout",
     "output_type": "stream",
     "text": [
      "Crosses stats epoch 15087: Statistics(crosses=0.688, naughts=0.104, draws=0.208, minus_10=0.0)\n",
      "Naughts stats epoch 15087: Statistics(crosses=0.208, naughts=0.172, draws=0.62, minus_10=0.0)\n"
     ]
    },
    {
     "name": "stderr",
     "output_type": "stream",
     "text": [
      "100%|███████████████████████████████████████████████████████████████| 500/500 [00:01<00:00, 459.95it/s]\n",
      "100%|███████████████████████████████████████████████████████████████| 500/500 [00:01<00:00, 305.52it/s]\n"
     ]
    },
    {
     "name": "stdout",
     "output_type": "stream",
     "text": [
      "Crosses stats epoch 16109: Statistics(crosses=0.658, naughts=0.082, draws=0.26, minus_10=0.0)\n",
      "Naughts stats epoch 16109: Statistics(crosses=0.294, naughts=0.16, draws=0.546, minus_10=0.0)\n"
     ]
    },
    {
     "name": "stderr",
     "output_type": "stream",
     "text": [
      "100%|███████████████████████████████████████████████████████████████| 500/500 [00:01<00:00, 493.55it/s]\n",
      "100%|███████████████████████████████████████████████████████████████| 500/500 [00:01<00:00, 303.02it/s]\n"
     ]
    },
    {
     "name": "stdout",
     "output_type": "stream",
     "text": [
      "Crosses stats epoch 17122: Statistics(crosses=0.742, naughts=0.066, draws=0.192, minus_10=0.0)\n",
      "Naughts stats epoch 17122: Statistics(crosses=0.236, naughts=0.174, draws=0.59, minus_10=0.0)\n"
     ]
    },
    {
     "name": "stderr",
     "output_type": "stream",
     "text": [
      "100%|███████████████████████████████████████████████████████████████| 500/500 [00:01<00:00, 325.46it/s]\n",
      "100%|███████████████████████████████████████████████████████████████| 500/500 [00:01<00:00, 301.94it/s]\n"
     ]
    },
    {
     "name": "stdout",
     "output_type": "stream",
     "text": [
      "Crosses stats epoch 18140: Statistics(crosses=0.472, naughts=0.122, draws=0.406, minus_10=0.0)\n",
      "Naughts stats epoch 18140: Statistics(crosses=0.2, naughts=0.152, draws=0.648, minus_10=0.0)\n"
     ]
    },
    {
     "name": "stderr",
     "output_type": "stream",
     "text": [
      "100%|███████████████████████████████████████████████████████████████| 500/500 [00:01<00:00, 348.89it/s]\n",
      "100%|███████████████████████████████████████████████████████████████| 500/500 [00:01<00:00, 297.50it/s]\n"
     ]
    },
    {
     "name": "stdout",
     "output_type": "stream",
     "text": [
      "Crosses stats epoch 19153: Statistics(crosses=0.454, naughts=0.188, draws=0.358, minus_10=0.0)\n",
      "Naughts stats epoch 19153: Statistics(crosses=0.314, naughts=0.174, draws=0.512, minus_10=0.0)\n"
     ]
    }
   ],
   "source": [
    "history = train(env_5, POLICIES_DQN_5, n_epochs=20000, eps_decay=12000, eps=0.9, inference_every=1000,\n",
    "                inference_epochs=500\n",
    "     )"
   ]
  },
  {
   "cell_type": "code",
   "execution_count": 50,
   "metadata": {},
   "outputs": [
    {
     "data": {
      "image/png": "[encoded data removed]",
      "text/plain": [
       "<Figure size 864x576 with 1 Axes>"
      ]
     },
     "metadata": {
      "needs_background": "light"
     },
     "output_type": "display_data"
    }
   ],
   "source": [
    "plot_history(history)"
   ]
  },
  {
   "cell_type": "markdown",
   "metadata": {},
   "source": [
    "**Вывод:** на 5 обучается уже плохо, кажется, даже хуже обычного Q-learning (но, возможно, поможет перебор гиперпараметров)."
   ]
  },
  {
   "cell_type": "markdown",
   "metadata": {},
   "source": [
    "## 4"
   ]
  },
  {
   "cell_type": "code",
   "execution_count": 60,
   "metadata": {},
   "outputs": [],
   "source": [
    "class DDQNPolicy(NeuralPolicy):\n",
    "    def __init__(self, N: int, model: nn.Module, eps=0.1):\n",
    "        self.eps = eps\n",
    "        self.observation_space = N\n",
    "        self.action_space = N**2\n",
    "        self.model = model(\n",
    "            observation_space=self.observation_space,\n",
    "            action_space=self.action_space\n",
    "        ).to(device)\n",
    "        self.target_model = model(\n",
    "            observation_space=self.observation_space,\n",
    "            action_space=self.action_space\n",
    "        ).to(device)\n",
    "        \n",
    "        self.optimizer = Adam(self.model.parameters(), lr=LEARNING_RATE, weight_decay=WEIGHT_DECAY)\n",
    "        self.buffer = ReplayBuffer(BUFFER_SIZE)\n",
    "    \n",
    "    def get_action(self, observation, **kwargs):\n",
    "        observation_board = kwargs.get(\"observation_board\")\n",
    "        if np.random.random() < self.eps:\n",
    "            return np.random.randint(self.action_space)\n",
    "        else:\n",
    "            board = self.board_to_tensor(observation_board).unsqueeze(0).to(device)\n",
    "            self.model.eval()\n",
    "            with torch.no_grad():\n",
    "                action = np.argmax(self.model(board).cpu().data.numpy())\n",
    "            self.model.train()\n",
    "            return action\n",
    "    \n",
    "    def train_step(self, batch, **kwargs):\n",
    "        states, actions, next_states, rewards, dones = batch\n",
    "        \n",
    "        q = self.model(states).gather(1, actions).reshape([BATCH_SIZE])\n",
    "        q_next = self.model(next_states).max(1)[0].detach()\n",
    "        goal = GAMMA * q_next * (1 - dones).reshape([BATCH_SIZE]) + rewards.reshape([BATCH_SIZE])\n",
    "        \n",
    "        self.optimizer.zero_grad()\n",
    "        loss = nn.SmoothL1Loss()(q, goal)\n",
    "        loss.backward()\n",
    "        #clip gradients for stability\n",
    "        for param in self.model.parameters():\n",
    "            param.grad.data.clamp_(-1, 1)\n",
    "        self.optimizer.step()\n",
    "        \n",
    "        #update weights\n",
    "        step = kwargs.get(\"step\", 0)\n",
    "        if step % STEPS_PER_TARGET_UPDATE == 0:\n",
    "            self.update_target_network()\n",
    "        \n",
    "    def update_target_network(self):\n",
    "        for target_param, local_param in zip(self.target_model.parameters(), self.model.parameters()):\n",
    "            target_param.data.copy_(local_param.data)"
   ]
  },
  {
   "cell_type": "code",
   "execution_count": 61,
   "metadata": {},
   "outputs": [],
   "source": [
    "POLICIES_DDQN_3 = {\n",
    "    CROSSES: DDQNPolicy(3, QModel),\n",
    "    NAUGHTS: DDQNPolicy(3, QModel)\n",
    "}"
   ]
  },
  {
   "cell_type": "code",
   "execution_count": 62,
   "metadata": {},
   "outputs": [
    {
     "name": "stderr",
     "output_type": "stream",
     "text": [
      "100%|██████████████████████████████████████████████████████████████| 500/500 [00:00<00:00, 3799.42it/s]\n",
      "100%|██████████████████████████████████████████████████████████████| 500/500 [00:00<00:00, 4322.97it/s]\n"
     ]
    },
    {
     "name": "stdout",
     "output_type": "stream",
     "text": [
      "Crosses stats epoch 1001: Statistics(crosses=0.114, naughts=0.044, draws=0.0, minus_10=0.842)\n",
      "Naughts stats epoch 1001: Statistics(crosses=0.094, naughts=0.032, draws=0.006, minus_10=0.868)\n"
     ]
    },
    {
     "name": "stderr",
     "output_type": "stream",
     "text": [
      "100%|██████████████████████████████████████████████████████████████| 500/500 [00:00<00:00, 3130.46it/s]\n",
      "100%|██████████████████████████████████████████████████████████████| 500/500 [00:00<00:00, 3513.68it/s]\n"
     ]
    },
    {
     "name": "stdout",
     "output_type": "stream",
     "text": [
      "Crosses stats epoch 2003: Statistics(crosses=0.158, naughts=0.056, draws=0.004, minus_10=0.782)\n",
      "Naughts stats epoch 2003: Statistics(crosses=0.192, naughts=0.048, draws=0.006, minus_10=0.754)\n"
     ]
    },
    {
     "name": "stderr",
     "output_type": "stream",
     "text": [
      "100%|██████████████████████████████████████████████████████████████| 500/500 [00:00<00:00, 2608.72it/s]\n",
      "100%|██████████████████████████████████████████████████████████████| 500/500 [00:00<00:00, 2948.96it/s]\n"
     ]
    },
    {
     "name": "stdout",
     "output_type": "stream",
     "text": [
      "Crosses stats epoch 3009: Statistics(crosses=0.178, naughts=0.092, draws=0.004, minus_10=0.726)\n",
      "Naughts stats epoch 3009: Statistics(crosses=0.232, naughts=0.072, draws=0.016, minus_10=0.68)\n"
     ]
    },
    {
     "name": "stderr",
     "output_type": "stream",
     "text": [
      "100%|██████████████████████████████████████████████████████████████| 500/500 [00:00<00:00, 2384.85it/s]\n",
      "100%|██████████████████████████████████████████████████████████████| 500/500 [00:00<00:00, 2642.93it/s]\n"
     ]
    },
    {
     "name": "stdout",
     "output_type": "stream",
     "text": [
      "Crosses stats epoch 4011: Statistics(crosses=0.234, naughts=0.106, draws=0.006, minus_10=0.654)\n",
      "Naughts stats epoch 4011: Statistics(crosses=0.244, naughts=0.09, draws=0.038, minus_10=0.628)\n"
     ]
    },
    {
     "name": "stderr",
     "output_type": "stream",
     "text": [
      "100%|██████████████████████████████████████████████████████████████| 500/500 [00:00<00:00, 2143.40it/s]\n",
      "100%|██████████████████████████████████████████████████████████████| 500/500 [00:00<00:00, 2284.66it/s]\n"
     ]
    },
    {
     "name": "stdout",
     "output_type": "stream",
     "text": [
      "Crosses stats epoch 5012: Statistics(crosses=0.266, naughts=0.122, draws=0.022, minus_10=0.59)\n",
      "Naughts stats epoch 5012: Statistics(crosses=0.29, naughts=0.112, draws=0.046, minus_10=0.552)\n"
     ]
    },
    {
     "name": "stderr",
     "output_type": "stream",
     "text": [
      "100%|██████████████████████████████████████████████████████████████| 500/500 [00:00<00:00, 1936.92it/s]\n",
      "100%|██████████████████████████████████████████████████████████████| 500/500 [00:00<00:00, 2190.93it/s]\n"
     ]
    },
    {
     "name": "stdout",
     "output_type": "stream",
     "text": [
      "Crosses stats epoch 6013: Statistics(crosses=0.304, naughts=0.146, draws=0.044, minus_10=0.506)\n",
      "Naughts stats epoch 6013: Statistics(crosses=0.326, naughts=0.122, draws=0.038, minus_10=0.514)\n"
     ]
    },
    {
     "name": "stderr",
     "output_type": "stream",
     "text": [
      "100%|██████████████████████████████████████████████████████████████| 500/500 [00:00<00:00, 1789.79it/s]\n",
      "100%|██████████████████████████████████████████████████████████████| 500/500 [00:00<00:00, 1928.07it/s]\n"
     ]
    },
    {
     "name": "stdout",
     "output_type": "stream",
     "text": [
      "Crosses stats epoch 7014: Statistics(crosses=0.412, naughts=0.1, draws=0.022, minus_10=0.466)\n",
      "Naughts stats epoch 7014: Statistics(crosses=0.372, naughts=0.148, draws=0.032, minus_10=0.448)\n"
     ]
    },
    {
     "name": "stderr",
     "output_type": "stream",
     "text": [
      "100%|██████████████████████████████████████████████████████████████| 500/500 [00:00<00:00, 1573.69it/s]\n",
      "100%|██████████████████████████████████████████████████████████████| 500/500 [00:00<00:00, 1835.68it/s]\n"
     ]
    },
    {
     "name": "stdout",
     "output_type": "stream",
     "text": [
      "Crosses stats epoch 8018: Statistics(crosses=0.436, naughts=0.166, draws=0.034, minus_10=0.364)\n",
      "Naughts stats epoch 8018: Statistics(crosses=0.35, naughts=0.204, draws=0.032, minus_10=0.414)\n"
     ]
    },
    {
     "name": "stderr",
     "output_type": "stream",
     "text": [
      "100%|██████████████████████████████████████████████████████████████| 500/500 [00:00<00:00, 1390.81it/s]\n",
      "100%|██████████████████████████████████████████████████████████████| 500/500 [00:00<00:00, 1518.72it/s]\n"
     ]
    },
    {
     "name": "stdout",
     "output_type": "stream",
     "text": [
      "Crosses stats epoch 9022: Statistics(crosses=0.428, naughts=0.252, draws=0.052, minus_10=0.268)\n",
      "Naughts stats epoch 9022: Statistics(crosses=0.404, naughts=0.272, draws=0.056, minus_10=0.268)\n"
     ]
    },
    {
     "name": "stderr",
     "output_type": "stream",
     "text": [
      "100%|██████████████████████████████████████████████████████████████| 500/500 [00:00<00:00, 1462.91it/s]\n",
      "100%|██████████████████████████████████████████████████████████████| 500/500 [00:00<00:00, 1474.09it/s]\n"
     ]
    },
    {
     "name": "stdout",
     "output_type": "stream",
     "text": [
      "Crosses stats epoch 10022: Statistics(crosses=0.694, naughts=0.112, draws=0.028, minus_10=0.166)\n",
      "Naughts stats epoch 10022: Statistics(crosses=0.464, naughts=0.304, draws=0.054, minus_10=0.178)\n"
     ]
    },
    {
     "name": "stderr",
     "output_type": "stream",
     "text": [
      "100%|██████████████████████████████████████████████████████████████| 500/500 [00:00<00:00, 1272.03it/s]\n",
      "100%|██████████████████████████████████████████████████████████████| 500/500 [00:00<00:00, 1382.93it/s]\n"
     ]
    },
    {
     "name": "stdout",
     "output_type": "stream",
     "text": [
      "Crosses stats epoch 11025: Statistics(crosses=0.658, naughts=0.21, draws=0.044, minus_10=0.088)\n",
      "Naughts stats epoch 11025: Statistics(crosses=0.468, naughts=0.414, draws=0.03, minus_10=0.088)\n"
     ]
    },
    {
     "name": "stderr",
     "output_type": "stream",
     "text": [
      "100%|██████████████████████████████████████████████████████████████| 500/500 [00:00<00:00, 1199.12it/s]\n",
      "100%|██████████████████████████████████████████████████████████████| 500/500 [00:00<00:00, 1314.90it/s]\n"
     ]
    },
    {
     "name": "stdout",
     "output_type": "stream",
     "text": [
      "Crosses stats epoch 12029: Statistics(crosses=0.776, naughts=0.124, draws=0.088, minus_10=0.012)\n",
      "Naughts stats epoch 12029: Statistics(crosses=0.434, naughts=0.54, draws=0.016, minus_10=0.01)\n"
     ]
    },
    {
     "name": "stderr",
     "output_type": "stream",
     "text": [
      "100%|██████████████████████████████████████████████████████████████| 500/500 [00:00<00:00, 1164.09it/s]\n",
      "100%|██████████████████████████████████████████████████████████████| 500/500 [00:00<00:00, 1217.21it/s]\n"
     ]
    },
    {
     "name": "stdout",
     "output_type": "stream",
     "text": [
      "Crosses stats epoch 13034: Statistics(crosses=0.76, naughts=0.17, draws=0.07, minus_10=0.0)\n",
      "Naughts stats epoch 13034: Statistics(crosses=0.448, naughts=0.508, draws=0.044, minus_10=0.0)\n"
     ]
    },
    {
     "name": "stderr",
     "output_type": "stream",
     "text": [
      "100%|██████████████████████████████████████████████████████████████| 500/500 [00:00<00:00, 1252.20it/s]\n",
      "100%|██████████████████████████████████████████████████████████████| 500/500 [00:00<00:00, 1313.97it/s]\n"
     ]
    },
    {
     "name": "stdout",
     "output_type": "stream",
     "text": [
      "Crosses stats epoch 14039: Statistics(crosses=0.874, naughts=0.102, draws=0.024, minus_10=0.0)\n",
      "Naughts stats epoch 14039: Statistics(crosses=0.418, naughts=0.56, draws=0.022, minus_10=0.0)\n"
     ]
    },
    {
     "name": "stderr",
     "output_type": "stream",
     "text": [
      "100%|██████████████████████████████████████████████████████████████| 500/500 [00:00<00:00, 1177.04it/s]\n",
      "100%|██████████████████████████████████████████████████████████████| 500/500 [00:00<00:00, 1237.89it/s]\n"
     ]
    },
    {
     "name": "stdout",
     "output_type": "stream",
     "text": [
      "Crosses stats epoch 15042: Statistics(crosses=0.812, naughts=0.146, draws=0.042, minus_10=0.0)\n",
      "Naughts stats epoch 15042: Statistics(crosses=0.472, naughts=0.5, draws=0.028, minus_10=0.0)\n"
     ]
    },
    {
     "name": "stderr",
     "output_type": "stream",
     "text": [
      "100%|██████████████████████████████████████████████████████████████| 500/500 [00:00<00:00, 1110.22it/s]\n",
      "100%|██████████████████████████████████████████████████████████████| 500/500 [00:00<00:00, 1307.37it/s]\n"
     ]
    },
    {
     "name": "stdout",
     "output_type": "stream",
     "text": [
      "Crosses stats epoch 16048: Statistics(crosses=0.834, naughts=0.1, draws=0.066, minus_10=0.0)\n",
      "Naughts stats epoch 16048: Statistics(crosses=0.45, naughts=0.508, draws=0.042, minus_10=0.0)\n"
     ]
    },
    {
     "name": "stderr",
     "output_type": "stream",
     "text": [
      "100%|██████████████████████████████████████████████████████████████| 500/500 [00:00<00:00, 1105.29it/s]\n",
      "100%|██████████████████████████████████████████████████████████████| 500/500 [00:00<00:00, 1280.62it/s]\n"
     ]
    },
    {
     "name": "stdout",
     "output_type": "stream",
     "text": [
      "Crosses stats epoch 17053: Statistics(crosses=0.64, naughts=0.256, draws=0.104, minus_10=0.0)\n",
      "Naughts stats epoch 17053: Statistics(crosses=0.504, naughts=0.476, draws=0.02, minus_10=0.0)\n"
     ]
    },
    {
     "name": "stderr",
     "output_type": "stream",
     "text": [
      "100%|██████████████████████████████████████████████████████████████| 500/500 [00:00<00:00, 1199.84it/s]\n",
      "100%|██████████████████████████████████████████████████████████████| 500/500 [00:00<00:00, 1303.95it/s]\n"
     ]
    },
    {
     "name": "stdout",
     "output_type": "stream",
     "text": [
      "Crosses stats epoch 18053: Statistics(crosses=0.752, naughts=0.11, draws=0.138, minus_10=0.0)\n",
      "Naughts stats epoch 18053: Statistics(crosses=0.448, naughts=0.54, draws=0.012, minus_10=0.0)\n"
     ]
    },
    {
     "name": "stderr",
     "output_type": "stream",
     "text": [
      "100%|██████████████████████████████████████████████████████████████| 500/500 [00:00<00:00, 1152.43it/s]\n",
      "100%|██████████████████████████████████████████████████████████████| 500/500 [00:00<00:00, 1296.12it/s]\n"
     ]
    },
    {
     "name": "stdout",
     "output_type": "stream",
     "text": [
      "Crosses stats epoch 19053: Statistics(crosses=0.73, naughts=0.218, draws=0.052, minus_10=0.0)\n",
      "Naughts stats epoch 19053: Statistics(crosses=0.456, naughts=0.524, draws=0.02, minus_10=0.0)\n"
     ]
    }
   ],
   "source": [
    "history_ddqn_3 = train(env_3, POLICIES_DDQN_3, n_epochs=20000, eps_decay=12000, eps=0.9, inference_every=1000,\n",
    "                inference_epochs=500\n",
    "     )"
   ]
  },
  {
   "cell_type": "code",
   "execution_count": 63,
   "metadata": {},
   "outputs": [
    {
     "data": {
      "image/png": "[encoded data removed]",
      "text/plain": [
       "<Figure size 864x576 with 1 Axes>"
      ]
     },
     "metadata": {
      "needs_background": "light"
     },
     "output_type": "display_data"
    }
   ],
   "source": [
    "plot_history(history_ddqn_3)"
   ]
  },
  {
   "cell_type": "code",
   "execution_count": 72,
   "metadata": {},
   "outputs": [],
   "source": [
    "POLICIES_DDQN_5 = {\n",
    "    CROSSES: DDQNPolicy(5, QModel),\n",
    "    NAUGHTS: DDQNPolicy(5, QModel)\n",
    "}"
   ]
  },
  {
   "cell_type": "code",
   "execution_count": 73,
   "metadata": {},
   "outputs": [
    {
     "name": "stderr",
     "output_type": "stream",
     "text": [
      "100%|██████████████████████████████████████████████████████████████| 500/500 [00:00<00:00, 1551.60it/s]\n",
      "100%|██████████████████████████████████████████████████████████████| 500/500 [00:00<00:00, 1594.91it/s]\n"
     ]
    },
    {
     "name": "stdout",
     "output_type": "stream",
     "text": [
      "Crosses stats epoch 2003: Statistics(crosses=0.0, naughts=0.002, draws=0.0, minus_10=0.998)\n",
      "Naughts stats epoch 2003: Statistics(crosses=0.002, naughts=0.0, draws=0.0, minus_10=0.998)\n"
     ]
    },
    {
     "name": "stderr",
     "output_type": "stream",
     "text": [
      "100%|███████████████████████████████████████████████████████████████| 500/500 [00:00<00:00, 860.68it/s]\n",
      "100%|███████████████████████████████████████████████████████████████| 500/500 [00:00<00:00, 862.57it/s]\n"
     ]
    },
    {
     "name": "stdout",
     "output_type": "stream",
     "text": [
      "Crosses stats epoch 4005: Statistics(crosses=0.006, naughts=0.002, draws=0.0, minus_10=0.992)\n",
      "Naughts stats epoch 4005: Statistics(crosses=0.014, naughts=0.004, draws=0.002, minus_10=0.98)\n"
     ]
    },
    {
     "name": "stderr",
     "output_type": "stream",
     "text": [
      "100%|███████████████████████████████████████████████████████████████| 500/500 [00:00<00:00, 591.74it/s]\n",
      "100%|███████████████████████████████████████████████████████████████| 500/500 [00:00<00:00, 625.86it/s]\n"
     ]
    },
    {
     "name": "stdout",
     "output_type": "stream",
     "text": [
      "Crosses stats epoch 6005: Statistics(crosses=0.054, naughts=0.03, draws=0.056, minus_10=0.86)\n",
      "Naughts stats epoch 6005: Statistics(crosses=0.046, naughts=0.038, draws=0.064, minus_10=0.852)\n"
     ]
    },
    {
     "name": "stderr",
     "output_type": "stream",
     "text": [
      "100%|███████████████████████████████████████████████████████████████| 500/500 [00:01<00:00, 427.90it/s]\n",
      "100%|███████████████████████████████████████████████████████████████| 500/500 [00:01<00:00, 433.77it/s]\n"
     ]
    },
    {
     "name": "stdout",
     "output_type": "stream",
     "text": [
      "Crosses stats epoch 8007: Statistics(crosses=0.116, naughts=0.078, draws=0.174, minus_10=0.632)\n",
      "Naughts stats epoch 8007: Statistics(crosses=0.104, naughts=0.086, draws=0.216, minus_10=0.594)\n"
     ]
    },
    {
     "name": "stderr",
     "output_type": "stream",
     "text": [
      "100%|███████████████████████████████████████████████████████████████| 500/500 [00:01<00:00, 311.06it/s]\n",
      "100%|███████████████████████████████████████████████████████████████| 500/500 [00:01<00:00, 322.30it/s]\n"
     ]
    },
    {
     "name": "stdout",
     "output_type": "stream",
     "text": [
      "Crosses stats epoch 10018: Statistics(crosses=0.356, naughts=0.162, draws=0.45, minus_10=0.032)\n",
      "Naughts stats epoch 10018: Statistics(crosses=0.22, naughts=0.22, draws=0.516, minus_10=0.044)\n"
     ]
    },
    {
     "name": "stderr",
     "output_type": "stream",
     "text": [
      "100%|███████████████████████████████████████████████████████████████| 500/500 [00:01<00:00, 307.49it/s]\n",
      "100%|███████████████████████████████████████████████████████████████| 500/500 [00:01<00:00, 326.47it/s]\n"
     ]
    },
    {
     "name": "stdout",
     "output_type": "stream",
     "text": [
      "Crosses stats epoch 12030: Statistics(crosses=0.296, naughts=0.192, draws=0.512, minus_10=0.0)\n",
      "Naughts stats epoch 12030: Statistics(crosses=0.244, naughts=0.274, draws=0.482, minus_10=0.0)\n"
     ]
    },
    {
     "name": "stderr",
     "output_type": "stream",
     "text": [
      "100%|███████████████████████████████████████████████████████████████| 500/500 [00:01<00:00, 305.95it/s]\n",
      "100%|███████████████████████████████████████████████████████████████| 500/500 [00:01<00:00, 315.49it/s]\n"
     ]
    },
    {
     "name": "stdout",
     "output_type": "stream",
     "text": [
      "Crosses stats epoch 14039: Statistics(crosses=0.35, naughts=0.146, draws=0.504, minus_10=0.0)\n",
      "Naughts stats epoch 14039: Statistics(crosses=0.306, naughts=0.262, draws=0.432, minus_10=0.0)\n"
     ]
    },
    {
     "name": "stderr",
     "output_type": "stream",
     "text": [
      "100%|███████████████████████████████████████████████████████████████| 500/500 [00:01<00:00, 308.57it/s]\n",
      "100%|███████████████████████████████████████████████████████████████| 500/500 [00:01<00:00, 362.78it/s]\n"
     ]
    },
    {
     "name": "stdout",
     "output_type": "stream",
     "text": [
      "Crosses stats epoch 16040: Statistics(crosses=0.462, naughts=0.108, draws=0.43, minus_10=0.0)\n",
      "Naughts stats epoch 16040: Statistics(crosses=0.284, naughts=0.41, draws=0.306, minus_10=0.0)\n"
     ]
    },
    {
     "name": "stderr",
     "output_type": "stream",
     "text": [
      "100%|███████████████████████████████████████████████████████████████| 500/500 [00:01<00:00, 313.78it/s]\n",
      "100%|███████████████████████████████████████████████████████████████| 500/500 [00:01<00:00, 351.43it/s]\n"
     ]
    },
    {
     "name": "stdout",
     "output_type": "stream",
     "text": [
      "Crosses stats epoch 18059: Statistics(crosses=0.34, naughts=0.21, draws=0.45, minus_10=0.0)\n",
      "Naughts stats epoch 18059: Statistics(crosses=0.28, naughts=0.376, draws=0.344, minus_10=0.0)\n"
     ]
    }
   ],
   "source": [
    "history_ddqn_5 = train(env_5, POLICIES_DDQN_5, n_epochs=20000, eps_decay=10000, eps=0.8, inference_every=2000,\n",
    "                inference_epochs=500\n",
    "     )"
   ]
  },
  {
   "cell_type": "code",
   "execution_count": 75,
   "metadata": {},
   "outputs": [
    {
     "data": {
      "image/png": "[encoded data removed]",
      "text/plain": [
       "<Figure size 864x576 with 1 Axes>"
      ]
     },
     "metadata": {
      "needs_background": "light"
     },
     "output_type": "display_data"
    }
   ],
   "source": [
    "plot_history(history_ddqn_5)"
   ]
  },
  {
   "cell_type": "markdown",
   "metadata": {},
   "source": [
    "# Часть третья: расширим и углубим поиск\n",
    "Крестики-нолики -- это, конечно, далеко не го, и обычный альфа-бета поиск с отсечением здесь наверняка может работать идеально вплоть до довольно больших досок. Однако мы всё-таки для этого учебного задания будем реализовывать более практически релевантный метод MCTS -- заодно фактически получится и упражнение на многоруких бандитов. </br>\n",
    "5. Реализуйте rollouts со случайной стратегией и (опционально) rollouts с неслучайной, но простой стратегией (например, основанной на дополнении нескольких паттернов или на Q-функции, которая у вас получилась в первом пункте). </br>\n",
    "6. Реализуйте MCTS-поиск с этими rollouts для крестиков-ноликов на досках разного размера, сравните полученные стратегии между собой и со стратегиями, обученными в первых двух частях.\n"
   ]
  },
  {
   "cell_type": "markdown",
   "metadata": {},
   "source": [
    "# 5"
   ]
  },
  {
   "cell_type": "code",
   "execution_count": 135,
   "metadata": {},
   "outputs": [],
   "source": [
    "from copy import deepcopy"
   ]
  },
  {
   "cell_type": "code",
   "execution_count": 141,
   "metadata": {},
   "outputs": [],
   "source": [
    "def rollout(env, action, policies, n):\n",
    "    final_reward = 0\n",
    "    for it in range(n):\n",
    "        env_cpy = deepcopy(env)\n",
    "        if isinstance(action, int):\n",
    "            action = env_cpy.getEmptySpaces()[action]\n",
    "        observation, reward, done, info = env_cpy.step(action)\n",
    "        state, current_actions, cur_player = observation\n",
    "        \n",
    "        while not done:\n",
    "            action: int = policies[cur_player].get_action(observation)\n",
    "            observation, reward, done, info = env_cpy.step(current_actions[action])\n",
    "            state, current_actions, cur_player = observation\n",
    "        \n",
    "        final_reward += reward\n",
    "        \n",
    "    return final_reward / n"
   ]
  },
  {
   "cell_type": "code",
   "execution_count": 146,
   "metadata": {},
   "outputs": [],
   "source": [
    "def roll_rolouts(env, policies, n: 100):\n",
    "    opponent_policy = RandomPolicy()\n",
    "    env.reset()\n",
    "    observation = env.getState()\n",
    "    state, current_actions, cur_player = observation\n",
    "    reward = 0\n",
    "    \n",
    "    done = False\n",
    "    while not done:\n",
    "        if policies[cur_player] is not None:\n",
    "            best_reward = -10\n",
    "            best_action = 0\n",
    "            for idx, action in enumerate(current_actions):\n",
    "                current_reward = rollout(\n",
    "                    env=env,\n",
    "                    action=action,\n",
    "                    policies={\n",
    "                        cur_player: policies[cur_player],\n",
    "                        -cur_player: opponent_policy\n",
    "                    },\n",
    "                    n=n\n",
    "                ) * cur_player\n",
    "                if current_reward > best_reward:\n",
    "                    best_reward = current_reward\n",
    "                    best_action = idx\n",
    "        else:\n",
    "            best_action = opponent_policy.get_action(observation)\n",
    "        observation, reward, done, info = env.step(current_actions[best_action])\n",
    "        state, current_actions, cur_player = observation\n",
    "    return reward"
   ]
  },
  {
   "cell_type": "code",
   "execution_count": 171,
   "metadata": {},
   "outputs": [],
   "source": [
    "def inference_rollouts(env, policies, n_episodes, n_rollouts):\n",
    "    crosses_wins = 0\n",
    "    naughts_wins = 0\n",
    "    draws = 0\n",
    "    minus_10 = 0\n",
    "    for i in tqdm(range(n_episodes)):\n",
    "        reward = roll_rolouts(env, policies, n=n_rollouts)\n",
    "        crosses_wins += 1 if reward == CROSSES else 0\n",
    "        naughts_wins += 1 if reward == NAUGHTS else 0\n",
    "        draws += 1 if reward == 0 else 0\n",
    "        minus_10 += 1 if reward == -10 else 0\n",
    "        \n",
    "    crosses_wins_stats = crosses_wins / n_episodes\n",
    "    naughts_wins_stats = naughts_wins / n_episodes\n",
    "    draws_stats = draws / n_episodes\n",
    "    minus_10_stats = minus_10 / n_episodes\n",
    "\n",
    "    return Statistics(crosses_wins_stats, naughts_wins_stats, draws_stats, minus_10_stats)"
   ]
  },
  {
   "cell_type": "code",
   "execution_count": 172,
   "metadata": {},
   "outputs": [],
   "source": [
    "POLICIES_ROLLOUTS_3 = {\n",
    "    CROSSES: RandomPolicy(),\n",
    "    NAUGHTS: None\n",
    "}"
   ]
  },
  {
   "cell_type": "code",
   "execution_count": 173,
   "metadata": {},
   "outputs": [
    {
     "name": "stderr",
     "output_type": "stream",
     "text": [
      "100%|████████████████████████████████████████████████████████████████| 100/100 [00:34<00:00,  2.92it/s]\n"
     ]
    }
   ],
   "source": [
    "stats_rollouts = inference_rollouts(\n",
    "                                    env_3, policies=POLICIES_ROLLOUTS_3,\n",
    "                                    n_episodes=100, n_rollouts=70\n",
    "                                   )"
   ]
  },
  {
   "cell_type": "code",
   "execution_count": 174,
   "metadata": {},
   "outputs": [
    {
     "name": "stdout",
     "output_type": "stream",
     "text": [
      "Statistics(crosses=0.87, naughts=0.08, draws=0.05, minus_10=0.0)\n"
     ]
    }
   ],
   "source": [
    "print(stats_rollouts)"
   ]
  },
  {
   "cell_type": "code",
   "execution_count": 175,
   "metadata": {},
   "outputs": [],
   "source": [
    "POLICIES_ROLLOUTS_3 = {\n",
    "    CROSSES: None,\n",
    "    NAUGHTS: RandomPolicy()\n",
    "}"
   ]
  },
  {
   "cell_type": "code",
   "execution_count": 176,
   "metadata": {},
   "outputs": [
    {
     "name": "stderr",
     "output_type": "stream",
     "text": [
      "100%|████████████████████████████████████████████████████████████████| 100/100 [00:25<00:00,  3.92it/s]\n"
     ]
    }
   ],
   "source": [
    "stats_rollouts_n = inference_rollouts(\n",
    "                                    env_3, policies=POLICIES_ROLLOUTS_3,\n",
    "                                    n_episodes=100, n_rollouts=70\n",
    "                                   )"
   ]
  },
  {
   "cell_type": "code",
   "execution_count": 177,
   "metadata": {},
   "outputs": [
    {
     "data": {
      "text/plain": [
       "Statistics(crosses=0.22, naughts=0.61, draws=0.17, minus_10=0.0)"
      ]
     },
     "execution_count": 177,
     "metadata": {},
     "output_type": "execute_result"
    }
   ],
   "source": [
    "stats_rollouts_n"
   ]
  },
  {
   "cell_type": "markdown",
   "metadata": {},
   "source": [
    "Для доски 5x5:"
   ]
  },
  {
   "cell_type": "code",
   "execution_count": 179,
   "metadata": {},
   "outputs": [
    {
     "name": "stderr",
     "output_type": "stream",
     "text": [
      "100%|████████████████████████████████████████████████████████████████| 100/100 [10:56<00:00,  6.56s/it]\n"
     ]
    }
   ],
   "source": [
    "stats_rollouts_5_c = inference_rollouts(\n",
    "                                    env_5, policies={CROSSES: RandomPolicy(), NAUGHTS: None},\n",
    "                                    n_episodes=100, n_rollouts=40\n",
    "                                   )"
   ]
  },
  {
   "cell_type": "code",
   "execution_count": 181,
   "metadata": {},
   "outputs": [
    {
     "data": {
      "text/plain": [
       "Statistics(crosses=0.39, naughts=0.08, draws=0.53, minus_10=0.0)"
      ]
     },
     "execution_count": 181,
     "metadata": {},
     "output_type": "execute_result"
    }
   ],
   "source": [
    "stats_rollouts_5_c"
   ]
  },
  {
   "cell_type": "code",
   "execution_count": 180,
   "metadata": {},
   "outputs": [
    {
     "name": "stderr",
     "output_type": "stream",
     "text": [
      "100%|████████████████████████████████████████████████████████████████| 100/100 [09:49<00:00,  5.89s/it]\n"
     ]
    }
   ],
   "source": [
    "stats_rollouts_5_n = inference_rollouts(\n",
    "                                    env_5, policies={CROSSES: None, NAUGHTS: RandomPolicy()},\n",
    "                                    n_episodes=100, n_rollouts=40\n",
    "                                   )"
   ]
  },
  {
   "cell_type": "code",
   "execution_count": 182,
   "metadata": {},
   "outputs": [
    {
     "data": {
      "text/plain": [
       "Statistics(crosses=0.11, naughts=0.33, draws=0.56, minus_10=0.0)"
      ]
     },
     "execution_count": 182,
     "metadata": {},
     "output_type": "execute_result"
    }
   ],
   "source": [
    "stats_rollouts_5_n"
   ]
  },
  {
   "cell_type": "markdown",
   "metadata": {},
   "source": [
    "## 6"
   ]
  },
  {
   "cell_type": "code",
   "execution_count": 398,
   "metadata": {},
   "outputs": [],
   "source": [
    "class Node:\n",
    "    def __init__(self, env, prev, action=[-1, -1], C=2):\n",
    "        self.action = action\n",
    "        self.weight = 0\n",
    "        self.n = 0\n",
    "        self.prev = prev\n",
    "        self.env = env\n",
    "        self.state = self.env.getState()[0]\n",
    "        self.C = C\n",
    "        self.children = []\n",
    "        self.eps = 0.0001\n",
    "\n",
    "    @property\n",
    "    def mean(self):\n",
    "        return self.weight / (self.n + self.eps)\n",
    "\n",
    "    def __len__(self):\n",
    "        return len(self.children)\n",
    "\n",
    "    def backpropagate(self, new_weight):\n",
    "        self.weight += new_weight\n",
    "        self.n += 1\n",
    "        if self.prev is not None:\n",
    "            self.prev.backpropagate(new_weight)\n",
    "\n",
    "    def get_max_child(self, N):\n",
    "        return self.children[np.argmax([child.ucb1(N) for child in self.children])]\n",
    "\n",
    "    def add_childs(self):\n",
    "        assert len(self.children) == 0\n",
    "        available_actions = self.env.getEmptySpaces()\n",
    "        for action in available_actions:\n",
    "            env_cpy = deepcopy(self.env)\n",
    "            observation, new_act_space, cur_player, info = env_cpy.step(action)\n",
    "            self.children.append(Node(env_cpy, self, action, self.C))\n",
    "\n",
    "    def ucb1(self, N):\n",
    "        self._delete_env_if_needed()\n",
    "        return (self.weight / (self.n + self.eps)) + self.C * np.log(N / (self.n + self.eps))\n",
    "\n",
    "    def _delete_env_if_needed(self):\n",
    "        if len(self.children):\n",
    "            try:\n",
    "                del self.env\n",
    "            except Exception as e:\n",
    "                pass\n",
    "            return True\n",
    "        return False"
   ]
  },
  {
   "cell_type": "code",
   "execution_count": 407,
   "metadata": {},
   "outputs": [],
   "source": [
    "class MCTSPolicy(Policy):\n",
    "    \"\"\"A tree for Monte Carlo Tree Search\n",
    "    \"\"\"              \n",
    "    def __init__(self, env, C=2, n_episodes_rollout=100):\n",
    "        env.reset()\n",
    "        self.env = env\n",
    "        self.root: Node = Node(env, prev=None, C=C)\n",
    "        self.N = 0\n",
    "        self.n_episodes_rollout = n_episodes_rollout\n",
    "        \n",
    "        self.current_state = self.root\n",
    "            \n",
    "    def __call__(self, policies: Dict, n=1000):\n",
    "        for idx in tqdm(range(n)):\n",
    "            node = self._select()\n",
    "            node = self._expand(node)\n",
    "            new_reward = self._simulate(node, policies)\n",
    "            self._backpropagate(node, new_reward)\n",
    "        self._assert_fitted(n)\n",
    "    \n",
    "    def _select(self):\n",
    "        current_node = self.root\n",
    "        while len(current_node):\n",
    "            current_node = current_node.get_max_child(self.N)\n",
    "        return current_node\n",
    "    \n",
    "    def _expand(self, node: Node):\n",
    "        if node.n == 0:\n",
    "            return node\n",
    "        else:\n",
    "            node.add_childs()\n",
    "            return node.children[0]\n",
    "        \n",
    "    def _simulate(self, node: Node, policies):\n",
    "        #if its terminal\n",
    "        if node.env.isTerminal():\n",
    "            return node.env.isTerminal()\n",
    "        else:\n",
    "            possible_actions = node.env.getEmptySpaces()\n",
    "            random_action_idx = np.random.randint(len(possible_actions))\n",
    "            action = possible_actions[random_action_idx]\n",
    "            return rollout(node.env, action=action, policies=policies, n=self.n_episodes_rollout)\n",
    "    \n",
    "    def _backpropagate(self, node: Node, new_reward):\n",
    "        node.backpropagate(new_reward)\n",
    "        self.N += 1\n",
    "        \n",
    "    def _assert_fitted(self, n):\n",
    "        assert self.N == n\n",
    "        \n",
    "        \n",
    "    def _search_state_node(self, state):\n",
    "        k = 0\n",
    "        q = deque()\n",
    "        q.append(self.current_state)\n",
    "        visited = set()\n",
    "        while len(q):\n",
    "            #print(f\"K: {k}\")\n",
    "            k += 1\n",
    "            node = q.popleft()\n",
    "            if node.state == state:\n",
    "                self.current_state = node\n",
    "                return\n",
    "            else:\n",
    "                visited.add(node.state)\n",
    "                for child in node.children:\n",
    "                    if child.state not in visited:\n",
    "                        q.append(child)\n",
    "        return         \n",
    "    \n",
    "    def get_action(self, observation, **kwargs):\n",
    "        state, cur_action_space, cur_player = observation\n",
    "        self._search_state_node(state)\n",
    "        if len(self.current_state.children):\n",
    "            child = self.current_state.get_max_child(self.N)\n",
    "            self.current_state = self.root\n",
    "            return child.action\n",
    "        else:\n",
    "            return self.current_state.action"
   ]
  },
  {
   "cell_type": "code",
   "execution_count": 408,
   "metadata": {},
   "outputs": [],
   "source": [
    "mcts = MCTSPolicy(env_3)"
   ]
  },
  {
   "cell_type": "code",
   "execution_count": 409,
   "metadata": {},
   "outputs": [],
   "source": [
    "POLICIES_RND = {\n",
    "    CROSSES: RandomPolicy(),\n",
    "    NAUGHTS: RandomPolicy()\n",
    "}"
   ]
  },
  {
   "cell_type": "code",
   "execution_count": 410,
   "metadata": {},
   "outputs": [
    {
     "name": "stderr",
     "output_type": "stream",
     "text": [
      "100%|██████████████████████████████████████████████████████████████| 1000/1000 [00:21<00:00, 46.81it/s]\n"
     ]
    }
   ],
   "source": [
    "mcts(POLICIES_RND)"
   ]
  },
  {
   "cell_type": "code",
   "execution_count": 405,
   "metadata": {},
   "outputs": [
    {
     "data": {
      "text/plain": [
       "Statistics(crosses=0.0, naughts=0.0, draws=0.0, minus_10=1.0)"
      ]
     },
     "execution_count": 405,
     "metadata": {},
     "output_type": "execute_result"
    }
   ],
   "source": [
    "statistics_mcts_crosses_3"
   ]
  },
  {
   "cell_type": "markdown",
   "metadata": {},
   "source": [
    "**Вывод:** не успеваю доделать MCTS до рабочего состояния("
   ]
  },
  {
   "cell_type": "code",
   "execution_count": null,
   "metadata": {},
   "outputs": [],
   "source": []
  }
 ],
 "metadata": {
  "kernelspec": {
   "display_name": "Python 3 (ipykernel)",
   "language": "python",
   "name": "python3"
  },
  "language_info": {
   "codemirror_mode": {
    "name": "ipython",
    "version": 3
   },
   "file_extension": ".py",
   "mimetype": "text/x-python",
   "name": "python",
   "nbconvert_exporter": "python",
   "pygments_lexer": "ipython3",
   "version": "3.8.12"
  }
 },
 "nbformat": 4,
 "nbformat_minor": 4
}
